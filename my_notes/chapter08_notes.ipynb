{
 "cells": [
  {
   "cell_type": "markdown",
   "metadata": {},
   "source": [
    "### Activity 22"
   ]
  },
  {
   "cell_type": "code",
   "execution_count": 1,
   "metadata": {},
   "outputs": [],
   "source": [
    "DEFAULT_INITIAL_BASKET = [\"orange\", \"apple\"]\n",
    "\n",
    "def create_picnic_basket(healthy, hungry, initial_basket=DEFAULT_INITIAL_BASKET):\n",
    "    \n",
    "    # To fix this, I set the the basket to blank list adding the initial basket\n",
    "    basket = [] + initial_basket\n",
    "    \n",
    "    if healthy:\n",
    "        basket.append(\"strawberry\")\n",
    "    else:\n",
    "        basket.append(\"jam\")\n",
    "\n",
    "    if hungry:\n",
    "        basket.append(\"sandwich\")\n",
    "        \n",
    "    return basket\n"
   ]
  },
  {
   "cell_type": "code",
   "execution_count": 2,
   "metadata": {},
   "outputs": [
    {
     "name": "stdout",
     "output_type": "stream",
     "text": [
      "First basket: ['orange', 'apple', 'strawberry']\n"
     ]
    }
   ],
   "source": [
    "# Reproducer\n",
    "print(\"First basket:\", create_picnic_basket(True, False))"
   ]
  },
  {
   "cell_type": "code",
   "execution_count": 3,
   "metadata": {},
   "outputs": [
    {
     "name": "stdout",
     "output_type": "stream",
     "text": [
      "Second basket: ['tea', 'jam', 'sandwich']\n"
     ]
    }
   ],
   "source": [
    "print(\"Second basket:\", create_picnic_basket(False, True, [\"tea\"]))"
   ]
  },
  {
   "cell_type": "code",
   "execution_count": 4,
   "metadata": {},
   "outputs": [
    {
     "name": "stdout",
     "output_type": "stream",
     "text": [
      "Third basket: ['orange', 'apple', 'strawberry', 'sandwich']\n"
     ]
    }
   ],
   "source": [
    "print(\"Third basket:\", create_picnic_basket(True, True))"
   ]
  },
  {
   "cell_type": "code",
   "execution_count": null,
   "metadata": {},
   "outputs": [],
   "source": []
  },
  {
   "cell_type": "code",
   "execution_count": 5,
   "metadata": {},
   "outputs": [
    {
     "name": "stdout",
     "output_type": "stream",
     "text": [
      "print(value, ..., sep=' ', end='\\n', file=sys.stdout, flush=False)\n",
      "\n",
      "Prints the values to a stream, or to sys.stdout by default.\n",
      "Optional keyword arguments:\n",
      "file:  a file-like object (stream); defaults to the current sys.stdout.\n",
      "sep:   string inserted between values, default a space.\n",
      "end:   string appended after the last value, default a newline.\n",
      "flush: whether to forcibly flush the stream.\n"
     ]
    }
   ],
   "source": [
    "print(print.__doc__)"
   ]
  },
  {
   "cell_type": "code",
   "execution_count": null,
   "metadata": {},
   "outputs": [],
   "source": []
  }
 ],
 "metadata": {
  "kernelspec": {
   "display_name": "Python 3",
   "language": "python",
   "name": "python3"
  },
  "language_info": {
   "codemirror_mode": {
    "name": "ipython",
    "version": 3
   },
   "file_extension": ".py",
   "mimetype": "text/x-python",
   "name": "python",
   "nbconvert_exporter": "python",
   "pygments_lexer": "ipython3",
   "version": "3.7.5"
  }
 },
 "nbformat": 4,
 "nbformat_minor": 4
}
