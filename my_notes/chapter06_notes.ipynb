{
 "cells": [
  {
   "cell_type": "code",
   "execution_count": 1,
   "metadata": {},
   "outputs": [],
   "source": [
    "import dataclasses"
   ]
  },
  {
   "cell_type": "code",
   "execution_count": 2,
   "metadata": {},
   "outputs": [],
   "source": [
    "@dataclasses.dataclass\n",
    "class Point:\n",
    "    x: int\n",
    "    y: int"
   ]
  },
  {
   "cell_type": "code",
   "execution_count": 3,
   "metadata": {},
   "outputs": [
    {
     "name": "stdout",
     "output_type": "stream",
     "text": [
      "Point(x=10, y=20)\n"
     ]
    }
   ],
   "source": [
    "p = Point(x=10, y=20)\n",
    "print(p)"
   ]
  },
  {
   "cell_type": "code",
   "execution_count": 4,
   "metadata": {},
   "outputs": [
    {
     "data": {
      "text/plain": [
       "True"
      ]
     },
     "execution_count": 4,
     "metadata": {},
     "output_type": "execute_result"
    }
   ],
   "source": [
    "p2 = Point(x=10, y=20)\n",
    "p == p2"
   ]
  },
  {
   "cell_type": "code",
   "execution_count": 5,
   "metadata": {},
   "outputs": [
    {
     "data": {
      "text/plain": [
       "{'x': 10, 'y': 20}"
      ]
     },
     "execution_count": 5,
     "metadata": {},
     "output_type": "execute_result"
    }
   ],
   "source": [
    "dataclasses.asdict(p)"
   ]
  },
  {
   "cell_type": "code",
   "execution_count": 6,
   "metadata": {},
   "outputs": [
    {
     "name": "stdout",
     "output_type": "stream",
     "text": [
      "usage: echo.py [-h] [-c] [--repeat REPEAT] message [message ...]\n",
      "\n",
      "Prints out the words passed in, capitalizes them if required and repeat them\n",
      "in as many lines as requested.\n",
      "\n",
      "positional arguments:\n",
      "  message           Messages to be echoed\n",
      "\n",
      "optional arguments:\n",
      "  -h, --help        show this help message and exit\n",
      "  -c, --capitalize\n",
      "  --repeat REPEAT\n"
     ]
    }
   ],
   "source": [
    "%run echo -h"
   ]
  },
  {
   "cell_type": "code",
   "execution_count": 7,
   "metadata": {},
   "outputs": [
    {
     "name": "stdout",
     "output_type": "stream",
     "text": [
      "Hello Pakt Reader\n",
      "Hello Pakt Reader\n",
      "Hello Pakt Reader\n"
     ]
    }
   ],
   "source": [
    "%run echo hello pakt reader --repeat=3 -c"
   ]
  },
  {
   "cell_type": "code",
   "execution_count": 8,
   "metadata": {},
   "outputs": [],
   "source": [
    "import datetime\n",
    "from dateutil import tz"
   ]
  },
  {
   "cell_type": "code",
   "execution_count": 9,
   "metadata": {},
   "outputs": [
    {
     "data": {
      "text/plain": [
       "datetime.date(2020, 6, 14)"
      ]
     },
     "execution_count": 9,
     "metadata": {},
     "output_type": "execute_result"
    }
   ],
   "source": [
    "datetime.date.today()"
   ]
  },
  {
   "cell_type": "code",
   "execution_count": 10,
   "metadata": {},
   "outputs": [
    {
     "data": {
      "text/plain": [
       "datetime.datetime(1989, 4, 24, 10, 11, tzinfo=tzfile('/usr/share/zoneinfo/Europe/Madrid'))"
      ]
     },
     "execution_count": 10,
     "metadata": {},
     "output_type": "execute_result"
    }
   ],
   "source": [
    "datetime.datetime(1989, 4, 24, 10, 11, tzinfo=tz.gettz('Europe/Madrid'))"
   ]
  },
  {
   "cell_type": "code",
   "execution_count": 11,
   "metadata": {},
   "outputs": [],
   "source": [
    "d1 = datetime.datetime(1989, 4, 24, hour=11, tzinfo=tz.gettz('Europe/Madrid'))"
   ]
  },
  {
   "cell_type": "code",
   "execution_count": 12,
   "metadata": {},
   "outputs": [],
   "source": [
    "d2 = datetime.datetime(1989, 4, 24, hour=8, tzinfo=tz.gettz('America/Los Angeles'))"
   ]
  },
  {
   "cell_type": "code",
   "execution_count": 13,
   "metadata": {},
   "outputs": [
    {
     "name": "stdout",
     "output_type": "stream",
     "text": [
      "True\n"
     ]
    }
   ],
   "source": [
    "print(d1.hour > d2.hour)"
   ]
  },
  {
   "cell_type": "code",
   "execution_count": 14,
   "metadata": {},
   "outputs": [
    {
     "name": "stdout",
     "output_type": "stream",
     "text": [
      "False\n"
     ]
    }
   ],
   "source": [
    "print(d1 > d2)"
   ]
  },
  {
   "cell_type": "code",
   "execution_count": 15,
   "metadata": {},
   "outputs": [
    {
     "name": "stdout",
     "output_type": "stream",
     "text": [
      "17\n"
     ]
    }
   ],
   "source": [
    "d2_madrid = d2.astimezone(tz.gettz('Europe/Madrid'))\n",
    "print(d2_madrid.hour)"
   ]
  },
  {
   "cell_type": "code",
   "execution_count": 16,
   "metadata": {},
   "outputs": [],
   "source": [
    "import datetime as dt"
   ]
  },
  {
   "cell_type": "code",
   "execution_count": 17,
   "metadata": {},
   "outputs": [],
   "source": [
    "d1 = dt.datetime(2019, 2, 25, 10, 50, tzinfo=dt.timezone.utc)\n",
    "d2 = dt.datetime(2019, 2, 26, 11, 20, tzinfo=dt.timezone.utc)"
   ]
  },
  {
   "cell_type": "code",
   "execution_count": 18,
   "metadata": {},
   "outputs": [
    {
     "data": {
      "text/plain": [
       "datetime.timedelta(days=1, seconds=1800)"
      ]
     },
     "execution_count": 18,
     "metadata": {},
     "output_type": "execute_result"
    }
   ],
   "source": [
    "d2-d1"
   ]
  },
  {
   "cell_type": "code",
   "execution_count": 19,
   "metadata": {},
   "outputs": [
    {
     "data": {
      "text/plain": [
       "88200.0"
      ]
     },
     "execution_count": 19,
     "metadata": {},
     "output_type": "execute_result"
    }
   ],
   "source": [
    "td = d2-d1\n",
    "td.total_seconds()"
   ]
  },
  {
   "cell_type": "code",
   "execution_count": 20,
   "metadata": {},
   "outputs": [
    {
     "data": {
      "text/plain": [
       "'2020-06-14T22:05:46.173126+00:00'"
      ]
     },
     "execution_count": 20,
     "metadata": {},
     "output_type": "execute_result"
    }
   ],
   "source": [
    "d1 = dt.datetime.now(dt.timezone.utc)\n",
    "d1.isoformat()"
   ]
  },
  {
   "cell_type": "code",
   "execution_count": 21,
   "metadata": {},
   "outputs": [],
   "source": [
    "import datetime as dt\n",
    "import time"
   ]
  },
  {
   "cell_type": "code",
   "execution_count": 22,
   "metadata": {},
   "outputs": [],
   "source": [
    "time_now = time.time()\n",
    "datetime_now = dt.datetime.now(dt.timezone.utc)"
   ]
  },
  {
   "cell_type": "code",
   "execution_count": 23,
   "metadata": {},
   "outputs": [
    {
     "name": "stdout",
     "output_type": "stream",
     "text": [
      "1970-01-01 00:00:00.000041+00:00\n"
     ]
    }
   ],
   "source": [
    "epoch = datetime_now - dt.timedelta(seconds=time_now)\n",
    "print(epoch)"
   ]
  },
  {
   "cell_type": "code",
   "execution_count": 24,
   "metadata": {},
   "outputs": [],
   "source": [
    "import calendar"
   ]
  },
  {
   "cell_type": "code",
   "execution_count": 25,
   "metadata": {},
   "outputs": [
    {
     "data": {
      "text/plain": [
       "[datetime.date(2019, 1, 28),\n",
       " datetime.date(2019, 1, 29),\n",
       " datetime.date(2019, 1, 30),\n",
       " datetime.date(2019, 1, 31),\n",
       " datetime.date(2019, 2, 1),\n",
       " datetime.date(2019, 2, 2),\n",
       " datetime.date(2019, 2, 3),\n",
       " datetime.date(2019, 2, 4),\n",
       " datetime.date(2019, 2, 5),\n",
       " datetime.date(2019, 2, 6),\n",
       " datetime.date(2019, 2, 7),\n",
       " datetime.date(2019, 2, 8),\n",
       " datetime.date(2019, 2, 9),\n",
       " datetime.date(2019, 2, 10),\n",
       " datetime.date(2019, 2, 11),\n",
       " datetime.date(2019, 2, 12),\n",
       " datetime.date(2019, 2, 13),\n",
       " datetime.date(2019, 2, 14),\n",
       " datetime.date(2019, 2, 15),\n",
       " datetime.date(2019, 2, 16),\n",
       " datetime.date(2019, 2, 17),\n",
       " datetime.date(2019, 2, 18),\n",
       " datetime.date(2019, 2, 19),\n",
       " datetime.date(2019, 2, 20),\n",
       " datetime.date(2019, 2, 21),\n",
       " datetime.date(2019, 2, 22),\n",
       " datetime.date(2019, 2, 23),\n",
       " datetime.date(2019, 2, 24),\n",
       " datetime.date(2019, 2, 25),\n",
       " datetime.date(2019, 2, 26),\n",
       " datetime.date(2019, 2, 27),\n",
       " datetime.date(2019, 2, 28),\n",
       " datetime.date(2019, 3, 1),\n",
       " datetime.date(2019, 3, 2),\n",
       " datetime.date(2019, 3, 3)]"
      ]
     },
     "execution_count": 25,
     "metadata": {},
     "output_type": "execute_result"
    }
   ],
   "source": [
    "c = calendar.Calendar()\n",
    "list(c.itermonthdates(2019,2))"
   ]
  },
  {
   "cell_type": "code",
   "execution_count": 26,
   "metadata": {},
   "outputs": [
    {
     "data": {
      "text/plain": [
       "[datetime.date(2019, 2, 1),\n",
       " datetime.date(2019, 2, 2),\n",
       " datetime.date(2019, 2, 3),\n",
       " datetime.date(2019, 2, 4),\n",
       " datetime.date(2019, 2, 5),\n",
       " datetime.date(2019, 2, 6),\n",
       " datetime.date(2019, 2, 7),\n",
       " datetime.date(2019, 2, 8),\n",
       " datetime.date(2019, 2, 9),\n",
       " datetime.date(2019, 2, 10),\n",
       " datetime.date(2019, 2, 11),\n",
       " datetime.date(2019, 2, 12),\n",
       " datetime.date(2019, 2, 13),\n",
       " datetime.date(2019, 2, 14),\n",
       " datetime.date(2019, 2, 15),\n",
       " datetime.date(2019, 2, 16),\n",
       " datetime.date(2019, 2, 17),\n",
       " datetime.date(2019, 2, 18),\n",
       " datetime.date(2019, 2, 19),\n",
       " datetime.date(2019, 2, 20),\n",
       " datetime.date(2019, 2, 21),\n",
       " datetime.date(2019, 2, 22),\n",
       " datetime.date(2019, 2, 23),\n",
       " datetime.date(2019, 2, 24),\n",
       " datetime.date(2019, 2, 25),\n",
       " datetime.date(2019, 2, 26),\n",
       " datetime.date(2019, 2, 27),\n",
       " datetime.date(2019, 2, 28)]"
      ]
     },
     "execution_count": 26,
     "metadata": {},
     "output_type": "execute_result"
    }
   ],
   "source": [
    "list(d for d in c.itermonthdates(2019, 2) if d.month == 2)"
   ]
  },
  {
   "cell_type": "markdown",
   "metadata": {},
   "source": [
    "### Activity 15"
   ]
  },
  {
   "cell_type": "code",
   "execution_count": 27,
   "metadata": {},
   "outputs": [],
   "source": [
    "import random\n",
    "import time"
   ]
  },
  {
   "cell_type": "code",
   "execution_count": 28,
   "metadata": {},
   "outputs": [
    {
     "name": "stdout",
     "output_type": "stream",
     "text": [
      "171000\n"
     ]
    }
   ],
   "source": [
    "start = time.time_ns()\n",
    "\n",
    "l = [random.randint(1, 999) for _ in range(10*6)]\n",
    "\n",
    "end = time.time_ns()\n",
    "\n",
    "print(end - start)"
   ]
  },
  {
   "cell_type": "code",
   "execution_count": null,
   "metadata": {},
   "outputs": [],
   "source": []
  },
  {
   "cell_type": "code",
   "execution_count": 29,
   "metadata": {},
   "outputs": [],
   "source": [
    "import platform\n",
    "import os\n",
    "import sys"
   ]
  },
  {
   "cell_type": "code",
   "execution_count": 30,
   "metadata": {},
   "outputs": [
    {
     "name": "stdout",
     "output_type": "stream",
     "text": [
      "Process id: 3229\n",
      "Parent process is: 677\n"
     ]
    }
   ],
   "source": [
    "print(f\"Process id: {os.getpid()}\")\n",
    "print(f\"Parent process is: {os.getppid()}\")"
   ]
  },
  {
   "cell_type": "code",
   "execution_count": 31,
   "metadata": {},
   "outputs": [
    {
     "name": "stdout",
     "output_type": "stream",
     "text": [
      "Machine network name: mbp2\n",
      "Python version: 3.7.5\n",
      "System: Darwin\n"
     ]
    }
   ],
   "source": [
    "print(f\"Machine network name: {platform.node()}\")\n",
    "print(f\"Python version: {platform.python_version()}\")\n",
    "print(f\"System: {platform.system()}\")"
   ]
  },
  {
   "cell_type": "code",
   "execution_count": 32,
   "metadata": {},
   "outputs": [
    {
     "name": "stdout",
     "output_type": "stream",
     "text": [
      "Python module lookup path:\t['/Users/sc4lp3r/Desktop/development/packt_workshops/packt_python_workshop/my_notes', '/opt/anaconda3/envs/my_env/lib/python37.zip', '/opt/anaconda3/envs/my_env/lib/python3.7', '/opt/anaconda3/envs/my_env/lib/python3.7/lib-dynload', '', '/opt/anaconda3/envs/my_env/lib/python3.7/site-packages', '/opt/anaconda3/envs/my_env/lib/python3.7/site-packages/IPython/extensions', '/Users/sc4lp3r/.ipython']\n",
      "\n",
      "\n",
      "Command to run Python:\t['/opt/anaconda3/envs/my_env/lib/python3.7/site-packages/ipykernel_launcher.py', '-f', '/Users/sc4lp3r/Library/Jupyter/runtime/kernel-4736610e-0891-4370-931d-05269ce0915d.json']\n"
     ]
    }
   ],
   "source": [
    "print(f\"Python module lookup path:\\t{sys.path}\")\n",
    "print(\"\\n\")\n",
    "print(f\"Command to run Python:\\t{sys.argv}\")"
   ]
  },
  {
   "cell_type": "code",
   "execution_count": 33,
   "metadata": {},
   "outputs": [
    {
     "data": {
      "text/plain": [
       "environ{'SHELL': '/bin/bash',\n",
       "        'TMPDIR': '/var/folders/3r/c315my114w54q07cbkw8z10w0000gn/T/',\n",
       "        'CONDA_SHLVL': '1',\n",
       "        'CONDA_PROMPT_MODIFIER': '(my_env) ',\n",
       "        'QHOME': '/opt/anaconda3/envs/my_env/q',\n",
       "        'USER': 'sc4lp3r',\n",
       "        'CONDA_EXE': '/opt/anaconda3/bin/conda',\n",
       "        'SSH_AUTH_SOCK': '/private/tmp/com.apple.launchd.s4YBVcJYYh/Listeners',\n",
       "        '__CF_USER_TEXT_ENCODING': '0x1F5:0:2',\n",
       "        '_CE_CONDA': '',\n",
       "        'CONDA_ROOT': '/opt/anaconda3',\n",
       "        'PATH': '/opt/anaconda3/envs/my_env/bin:/opt/anaconda3/condabin:/usr/bin:/bin:/usr/sbin:/sbin',\n",
       "        'CONDA_PREFIX': '/opt/anaconda3/envs/my_env',\n",
       "        'PWD': '/Users/sc4lp3r',\n",
       "        'OLD_QHOME': '',\n",
       "        'XPC_FLAGS': '0x0',\n",
       "        '_CE_M': '',\n",
       "        'XPC_SERVICE_NAME': '0',\n",
       "        'HOME': '/Users/sc4lp3r',\n",
       "        'SHLVL': '2',\n",
       "        'CONDA_PYTHON_EXE': '/opt/anaconda3/bin/python',\n",
       "        'LOGNAME': 'sc4lp3r',\n",
       "        'LC_CTYPE': 'UTF-8',\n",
       "        'CONDA_DEFAULT_ENV': 'my_env',\n",
       "        '_': '/opt/anaconda3/envs/my_env/bin/jupyter',\n",
       "        'KERNEL_LAUNCH_TIMEOUT': '40',\n",
       "        'JPY_PARENT_PID': '677',\n",
       "        'TERM': 'xterm-color',\n",
       "        'CLICOLOR': '1',\n",
       "        'PAGER': 'cat',\n",
       "        'GIT_PAGER': 'cat',\n",
       "        'MPLBACKEND': 'module://ipykernel.pylab.backend_inline'}"
      ]
     },
     "execution_count": 33,
     "metadata": {},
     "output_type": "execute_result"
    }
   ],
   "source": [
    "os.environ"
   ]
  },
  {
   "cell_type": "code",
   "execution_count": 34,
   "metadata": {},
   "outputs": [
    {
     "name": "stdout",
     "output_type": "stream",
     "text": [
      "USER environment variable: sc4lp3r\n"
     ]
    }
   ],
   "source": [
    "print(f\"USER environment variable: {os.environ.get('USER')}\")"
   ]
  },
  {
   "cell_type": "code",
   "execution_count": 35,
   "metadata": {},
   "outputs": [],
   "source": [
    "import pathlib"
   ]
  },
  {
   "cell_type": "code",
   "execution_count": 36,
   "metadata": {},
   "outputs": [
    {
     "name": "stdout",
     "output_type": "stream",
     "text": [
      "PosixPath('.')\n"
     ]
    }
   ],
   "source": [
    "path = pathlib.Path()\n",
    "print(repr(path))"
   ]
  },
  {
   "cell_type": "code",
   "execution_count": 37,
   "metadata": {},
   "outputs": [],
   "source": [
    "p = pathlib.Path('')"
   ]
  },
  {
   "cell_type": "code",
   "execution_count": 38,
   "metadata": {},
   "outputs": [
    {
     "name": "stdout",
     "output_type": "stream",
     "text": [
      "*.txt [PosixPath('pg37431.txt'), PosixPath('log.txt')]\n"
     ]
    }
   ],
   "source": [
    "txt_files = p.glob(\"*.txt\")\n",
    "print(\"*.txt\", list(txt_files))"
   ]
  },
  {
   "cell_type": "code",
   "execution_count": 39,
   "metadata": {},
   "outputs": [
    {
     "name": "stdout",
     "output_type": "stream",
     "text": [
      "**/*.txt [PosixPath('pg37431.txt'), PosixPath('log.txt')]\n"
     ]
    }
   ],
   "source": [
    "print(\"**/*.txt\", list(p.glob(\"**/*.txt\")))"
   ]
  },
  {
   "cell_type": "code",
   "execution_count": 40,
   "metadata": {},
   "outputs": [
    {
     "name": "stdout",
     "output_type": "stream",
     "text": [
      "*/*: [PosixPath('__pycache__/ex37.cpython-37.pyc'), PosixPath('__pycache__/ex35.cpython-37.pyc'), PosixPath('__pycache__/ex44.cpython-37.pyc'), PosixPath('.ipynb_checkpoints/chapter05_notes-checkpoint.ipynb'), PosixPath('.ipynb_checkpoints/chapter06_notes-checkpoint.ipynb'), PosixPath('.ipynb_checkpoints/chapter03_notes-checkpoint.ipynb'), PosixPath('.ipynb_checkpoints/chapter04_notes-checkpoint.ipynb')]\n"
     ]
    }
   ],
   "source": [
    "print(\"*/*:\", list(p.glob(\"*/*\")))"
   ]
  },
  {
   "cell_type": "code",
   "execution_count": 41,
   "metadata": {},
   "outputs": [
    {
     "name": "stdout",
     "output_type": "stream",
     "text": [
      "Files in */*: [PosixPath('__pycache__/ex37.cpython-37.pyc'), PosixPath('__pycache__/ex35.cpython-37.pyc'), PosixPath('__pycache__/ex44.cpython-37.pyc'), PosixPath('.ipynb_checkpoints/chapter05_notes-checkpoint.ipynb'), PosixPath('.ipynb_checkpoints/chapter06_notes-checkpoint.ipynb'), PosixPath('.ipynb_checkpoints/chapter03_notes-checkpoint.ipynb'), PosixPath('.ipynb_checkpoints/chapter04_notes-checkpoint.ipynb')]\n"
     ]
    }
   ],
   "source": [
    "print(\"Files in */*:\", [f for f in p.glob(\"*/*\") if f.is_file()])"
   ]
  },
  {
   "cell_type": "code",
   "execution_count": 42,
   "metadata": {},
   "outputs": [
    {
     "name": "stdout",
     "output_type": "stream",
     "text": [
      "[PosixPath('/Users/sc4lp3r/.condarc'), PosixPath('/Users/sc4lp3r/.docker'), PosixPath('/Users/sc4lp3r/.DS_Store'), PosixPath('/Users/sc4lp3r/.CFUserTextEncoding'), PosixPath('/Users/sc4lp3r/.zsh_history'), PosixPath('/Users/sc4lp3r/.ipython'), PosixPath('/Users/sc4lp3r/.matplotlib'), PosixPath('/Users/sc4lp3r/.cups'), PosixPath('/Users/sc4lp3r/.bash_sessions'), PosixPath('/Users/sc4lp3r/.anaconda'), PosixPath('/Users/sc4lp3r/.Trash'), PosixPath('/Users/sc4lp3r/.jupyter'), PosixPath('/Users/sc4lp3r/.bash_profile'), PosixPath('/Users/sc4lp3r/.python_history'), PosixPath('/Users/sc4lp3r/.aws'), PosixPath('/Users/sc4lp3r/.gitconfig'), PosixPath('/Users/sc4lp3r/.bash_history'), PosixPath('/Users/sc4lp3r/.conda')]\n"
     ]
    }
   ],
   "source": [
    "import pathlib\n",
    "\n",
    "p = pathlib.Path.home()\n",
    "print(list(p.glob(\".*\")))"
   ]
  },
  {
   "cell_type": "code",
   "execution_count": 43,
   "metadata": {},
   "outputs": [],
   "source": [
    "import subprocess"
   ]
  },
  {
   "cell_type": "code",
   "execution_count": 44,
   "metadata": {},
   "outputs": [
    {
     "data": {
      "text/plain": [
       "CompletedProcess(args=['ls'], returncode=0)"
      ]
     },
     "execution_count": 44,
     "metadata": {},
     "output_type": "execute_result"
    }
   ],
   "source": [
    "subprocess.run(['ls'])"
   ]
  },
  {
   "cell_type": "code",
   "execution_count": 45,
   "metadata": {},
   "outputs": [
    {
     "name": "stdout",
     "output_type": "stream",
     "text": [
      "stdout:  total 2792\n",
      "drwxr-xr-x  5 sc4lp3r  staff     160 Jun  8 13:51 __pycache__\n",
      "-rw-r--r--  1 sc4lp3r  staff  107533 Jun  9 13:54 chapter03_notes.ipynb\n",
      "-rw-r--r--  1 sc4lp3r  staff  928074 Jun  9 21:19 chapter04_notes.ipynb\n",
      "-rw-r--r--  1 sc4lp3r  staff   39355 Jun 11 14:40 chapter05_notes.ipynb\n",
      "-rw-r--r--  1 sc4lp3r  staff   68393 Jun 14 23:05 chapter06_notes.ipynb\n",
      "-rw-r--r--@ 1 sc4lp3r  staff     572 Jun 11 15:53 echo.py\n",
      "-rw-r--r--@ 1 sc4lp3r  staff      99 Jun  4 20:02 ex34.py\n",
      "-rw-r--r--  1 sc4lp3r  staff     195 Jun  4 20:48 ex35.py\n",
      "-rw-r--r--@ 1 sc4lp3r  staff     126 Jun  7 20:27 ex37.py\n",
      "-rw-r--r--@ 1 sc4lp3r  staff     223 Jun  8 13:51 ex44.py\n",
      "-rw-r--r--  1 sc4lp3r  staff     220 Jun  9 21:16 log.txt\n",
      "-rw-r--r--  1 sc4lp3r  staff     275 Jun 14 18:30 logging-config.ini\n",
      "-rw-r--r--@ 1 sc4lp3r  staff  187639 Jun  9 14:06 pg37431.txt\n",
      "-rw-r--r--@ 1 sc4lp3r  staff   60302 Jun  9 20:51 titanic_train.csv\n",
      "\n",
      "sterr:  \n"
     ]
    }
   ],
   "source": [
    "result = subprocess.run(['ls', '-l'], capture_output=True, text=True)\n",
    "print('stdout: ', result.stdout)\n",
    "print('sterr: ', result.stderr)"
   ]
  },
  {
   "cell_type": "code",
   "execution_count": 46,
   "metadata": {},
   "outputs": [
    {
     "ename": "CalledProcessError",
     "evalue": "Command '['ls', 'non_existing_file']' returned non-zero exit status 1.",
     "output_type": "error",
     "traceback": [
      "\u001b[0;31m---------------------------------------------------------------------------\u001b[0m",
      "\u001b[0;31mCalledProcessError\u001b[0m                        Traceback (most recent call last)",
      "\u001b[0;32m<ipython-input-46-3c744d999deb>\u001b[0m in \u001b[0;36m<module>\u001b[0;34m\u001b[0m\n\u001b[0;32m----> 1\u001b[0;31m \u001b[0mresult\u001b[0m \u001b[0;34m=\u001b[0m \u001b[0msubprocess\u001b[0m\u001b[0;34m.\u001b[0m\u001b[0mrun\u001b[0m\u001b[0;34m(\u001b[0m\u001b[0;34m[\u001b[0m\u001b[0;34m'ls'\u001b[0m\u001b[0;34m,\u001b[0m \u001b[0;34m'non_existing_file'\u001b[0m\u001b[0;34m]\u001b[0m\u001b[0;34m,\u001b[0m \u001b[0mcheck\u001b[0m\u001b[0;34m=\u001b[0m\u001b[0;32mTrue\u001b[0m\u001b[0;34m)\u001b[0m\u001b[0;34m\u001b[0m\u001b[0;34m\u001b[0m\u001b[0m\n\u001b[0m\u001b[1;32m      2\u001b[0m \u001b[0mprint\u001b[0m\u001b[0;34m(\u001b[0m\u001b[0;34m\"rc: \"\u001b[0m\u001b[0;34m,\u001b[0m \u001b[0mresult\u001b[0m\u001b[0;34m.\u001b[0m\u001b[0mreturncode\u001b[0m\u001b[0;34m)\u001b[0m\u001b[0;34m\u001b[0m\u001b[0;34m\u001b[0m\u001b[0m\n",
      "\u001b[0;32m/opt/anaconda3/envs/my_env/lib/python3.7/subprocess.py\u001b[0m in \u001b[0;36mrun\u001b[0;34m(input, capture_output, timeout, check, *popenargs, **kwargs)\u001b[0m\n\u001b[1;32m    510\u001b[0m         \u001b[0;32mif\u001b[0m \u001b[0mcheck\u001b[0m \u001b[0;32mand\u001b[0m \u001b[0mretcode\u001b[0m\u001b[0;34m:\u001b[0m\u001b[0;34m\u001b[0m\u001b[0;34m\u001b[0m\u001b[0m\n\u001b[1;32m    511\u001b[0m             raise CalledProcessError(retcode, process.args,\n\u001b[0;32m--> 512\u001b[0;31m                                      output=stdout, stderr=stderr)\n\u001b[0m\u001b[1;32m    513\u001b[0m     \u001b[0;32mreturn\u001b[0m \u001b[0mCompletedProcess\u001b[0m\u001b[0;34m(\u001b[0m\u001b[0mprocess\u001b[0m\u001b[0;34m.\u001b[0m\u001b[0margs\u001b[0m\u001b[0;34m,\u001b[0m \u001b[0mretcode\u001b[0m\u001b[0;34m,\u001b[0m \u001b[0mstdout\u001b[0m\u001b[0;34m,\u001b[0m \u001b[0mstderr\u001b[0m\u001b[0;34m)\u001b[0m\u001b[0;34m\u001b[0m\u001b[0;34m\u001b[0m\u001b[0m\n\u001b[1;32m    514\u001b[0m \u001b[0;34m\u001b[0m\u001b[0m\n",
      "\u001b[0;31mCalledProcessError\u001b[0m: Command '['ls', 'non_existing_file']' returned non-zero exit status 1."
     ]
    }
   ],
   "source": [
    "result = subprocess.run(['ls', 'non_existing_file'], check=True)\n",
    "print(\"rc: \", result.returncode)"
   ]
  },
  {
   "cell_type": "code",
   "execution_count": 47,
   "metadata": {},
   "outputs": [],
   "source": [
    "import subprocess"
   ]
  },
  {
   "cell_type": "code",
   "execution_count": 48,
   "metadata": {},
   "outputs": [
    {
     "name": "stdout",
     "output_type": "stream",
     "text": [
      "SHELL=/bin/bash\n",
      "TMPDIR=/var/folders/3r/c315my114w54q07cbkw8z10w0000gn/T/\n",
      "CONDA_SHLVL=1\n",
      "CONDA_PROMPT_MODIFIER=(my_env) \n",
      "QHOME=/opt/anaconda3/envs/my_env/q\n",
      "USER=sc4lp3r\n",
      "CONDA_EXE=/opt/anaconda3/bin/conda\n",
      "SSH_AUTH_SOCK=/private/tmp/com.apple.launchd.s4YBVcJYYh/Listeners\n",
      "__CF_USER_TEXT_ENCODING=0x1F5:0:2\n",
      "_CE_CONDA=\n",
      "CONDA_ROOT=/opt/anaconda3\n",
      "PATH=/opt/anaconda3/envs/my_env/bin:/opt/anaconda3/condabin:/usr/bin:/bin:/usr/sbin:/sbin\n",
      "CONDA_PREFIX=/opt/anaconda3/envs/my_env\n",
      "PWD=/Users/sc4lp3r\n",
      "OLD_QHOME=\n",
      "XPC_FLAGS=0x0\n",
      "_CE_M=\n",
      "XPC_SERVICE_NAME=0\n",
      "HOME=/Users/sc4lp3r\n",
      "SHLVL=2\n",
      "CONDA_PYTHON_EXE=/opt/anaconda3/bin/python\n",
      "LOGNAME=sc4lp3r\n",
      "LC_CTYPE=UTF-8\n",
      "CONDA_DEFAULT_ENV=my_env\n",
      "_=/opt/anaconda3/envs/my_env/bin/jupyter\n",
      "KERNEL_LAUNCH_TIMEOUT=40\n",
      "JPY_PARENT_PID=677\n",
      "TERM=xterm-color\n",
      "CLICOLOR=1\n",
      "PAGER=cat\n",
      "GIT_PAGER=cat\n",
      "MPLBACKEND=module://ipykernel.pylab.backend_inline\n",
      "\n"
     ]
    }
   ],
   "source": [
    "result = subprocess.run(['env'], capture_output=True, text=True)\n",
    "print(result.stdout)"
   ]
  },
  {
   "cell_type": "markdown",
   "metadata": {},
   "source": [
    "### Activity 16"
   ]
  },
  {
   "cell_type": "code",
   "execution_count": 49,
   "metadata": {},
   "outputs": [],
   "source": [
    "import sys\n",
    "import subprocess"
   ]
  },
  {
   "cell_type": "code",
   "execution_count": 50,
   "metadata": {},
   "outputs": [],
   "source": [
    "code = 'compile(\"1\" + \"1\" * 10**6, \"string\", \"exec\")'"
   ]
  },
  {
   "cell_type": "code",
   "execution_count": 51,
   "metadata": {},
   "outputs": [],
   "source": [
    "result = subprocess.run([sys.executable, \"-c\", code])"
   ]
  },
  {
   "cell_type": "code",
   "execution_count": 52,
   "metadata": {},
   "outputs": [
    {
     "name": "stdout",
     "output_type": "stream",
     "text": [
      "0\n"
     ]
    }
   ],
   "source": [
    "print(result.returncode)"
   ]
  },
  {
   "cell_type": "code",
   "execution_count": null,
   "metadata": {},
   "outputs": [],
   "source": []
  },
  {
   "cell_type": "code",
   "execution_count": 53,
   "metadata": {},
   "outputs": [],
   "source": [
    "import logging"
   ]
  },
  {
   "cell_type": "code",
   "execution_count": 54,
   "metadata": {},
   "outputs": [],
   "source": [
    "logger = logging.getLogger(\"logger_name\")"
   ]
  },
  {
   "cell_type": "code",
   "execution_count": 55,
   "metadata": {},
   "outputs": [
    {
     "name": "stderr",
     "output_type": "stream",
     "text": [
      "Logging at warning\n",
      "Logging at error\n",
      "Logging at fatal\n"
     ]
    }
   ],
   "source": [
    "logger.debug(\"Logging at debug\")\n",
    "logger.info(\"Logging at info\")\n",
    "logger.warning(\"Logging at warning\")\n",
    "logger.error(\"Logging at error\")\n",
    "logger.fatal(\"Logging at fatal\")"
   ]
  },
  {
   "cell_type": "code",
   "execution_count": 56,
   "metadata": {},
   "outputs": [
    {
     "name": "stderr",
     "output_type": "stream",
     "text": [
      "0 errors reported in moon\n",
      "1 errors reported in moon\n",
      "2 errors reported in moon\n"
     ]
    }
   ],
   "source": [
    "system = \"moon\"\n",
    "for num in range(3):\n",
    "    logger.warning(f'{num} errors reported in {system}')"
   ]
  },
  {
   "cell_type": "code",
   "execution_count": 57,
   "metadata": {},
   "outputs": [
    {
     "name": "stdout",
     "output_type": "stream",
     "text": [
      "INFO: Hello logging world\n"
     ]
    }
   ],
   "source": [
    "import logging\n",
    "import sys\n",
    "\n",
    "root_logger = logging.getLogger()\n",
    "handler = logging.StreamHandler(sys.stdout)\n",
    "formatter = logging.Formatter(\"%(levelname)s: %(message)s\")\n",
    "handler.setFormatter(formatter)\n",
    "root_logger.addHandler(handler)\n",
    "root_logger.setLevel(\"INFO\")\n",
    "\n",
    "logging.info(\"Hello logging world\")"
   ]
  },
  {
   "cell_type": "code",
   "execution_count": 58,
   "metadata": {},
   "outputs": [
    {
     "name": "stdout",
     "output_type": "stream",
     "text": [
      "INFO: Hello logging world\n"
     ]
    }
   ],
   "source": [
    "import logging\n",
    "from logging.config import dictConfig\n",
    "\n",
    "dictConfig({\n",
    "    \"version\": 1,\n",
    "    \"formatters\": {\n",
    "        \"short\":{\n",
    "            \"format\": \"%(levelname)s: %(message)s\",\n",
    "        }\n",
    "    },\n",
    "    \"handlers\": {\n",
    "        \"console\": {\n",
    "            \"class\": \"logging.StreamHandler\",\n",
    "            \"formatter\": \"short\",\n",
    "            \"stream\": \"ext://sys.stdout\",\n",
    "            \"level\": \"DEBUG\",\n",
    "        }\n",
    "    },\n",
    "    \"loggers\": {\n",
    "        \"\": {\n",
    "            \"handlers\": [\"console\"],\n",
    "            \"level\": \"INFO\"\n",
    "        }   \n",
    "    }\n",
    "})\n",
    "\n",
    "logging.info(\"Hello logging world\")"
   ]
  },
  {
   "cell_type": "code",
   "execution_count": 59,
   "metadata": {},
   "outputs": [
    {
     "name": "stdout",
     "output_type": "stream",
     "text": [
      "INFO: Hello there!\n"
     ]
    }
   ],
   "source": [
    "import sys\n",
    "import logging\n",
    "\n",
    "logging.basicConfig(\n",
    "    level=\"INFO\",\n",
    "    format=\"%(levelname)s: %(message)s\",\n",
    "    stream=sys.stdout\n",
    ")\n",
    "\n",
    "logging.info(\"Hello there!\")"
   ]
  },
  {
   "cell_type": "code",
   "execution_count": 60,
   "metadata": {},
   "outputs": [
    {
     "name": "stdout",
     "output_type": "stream",
     "text": [
      "INFO: Hello there!\n"
     ]
    }
   ],
   "source": [
    "import logging\n",
    "from logging.config import fileConfig\n",
    "\n",
    "fileConfig(\"logging-config.ini\")\n",
    "\n",
    "logging.info(\"Hello there!\")"
   ]
  },
  {
   "cell_type": "code",
   "execution_count": null,
   "metadata": {},
   "outputs": [],
   "source": []
  },
  {
   "cell_type": "code",
   "execution_count": 61,
   "metadata": {},
   "outputs": [],
   "source": [
    "import urllib.request"
   ]
  },
  {
   "cell_type": "code",
   "execution_count": 62,
   "metadata": {},
   "outputs": [],
   "source": [
    "url = 'https://www.w3.org/TR/PNG/iso_8859-1.txt'\n",
    "response = urllib.request.urlopen(url)\n",
    "words = response.read().decode().split()"
   ]
  },
  {
   "cell_type": "code",
   "execution_count": 63,
   "metadata": {},
   "outputs": [
    {
     "data": {
      "text/plain": [
       "858"
      ]
     },
     "execution_count": 63,
     "metadata": {},
     "output_type": "execute_result"
    }
   ],
   "source": [
    "len(words)"
   ]
  },
  {
   "cell_type": "code",
   "execution_count": 64,
   "metadata": {},
   "outputs": [
    {
     "data": {
      "text/plain": [
       "Counter({'The': 1,\n",
       "         'following': 1,\n",
       "         'are': 1,\n",
       "         'the': 4,\n",
       "         'graphical': 1,\n",
       "         '(non-control)': 1,\n",
       "         'characters': 1,\n",
       "         'defined': 1,\n",
       "         'by': 1,\n",
       "         'ISO': 1,\n",
       "         '8859-1': 1,\n",
       "         '(1987).': 1,\n",
       "         'Descriptions': 1,\n",
       "         'in': 2,\n",
       "         'words': 1,\n",
       "         \"aren't\": 1,\n",
       "         'all': 1,\n",
       "         'that': 1,\n",
       "         'helpful,': 1,\n",
       "         'but': 1,\n",
       "         \"they're\": 1,\n",
       "         'best': 1,\n",
       "         'we': 1,\n",
       "         'can': 1,\n",
       "         'do': 1,\n",
       "         'text.': 1,\n",
       "         'A': 15,\n",
       "         'graphics': 1,\n",
       "         'file': 1,\n",
       "         'illustrating': 1,\n",
       "         'character': 1,\n",
       "         'set': 1,\n",
       "         'should': 1,\n",
       "         'be': 1,\n",
       "         'available': 1,\n",
       "         'from': 1,\n",
       "         'same': 1,\n",
       "         'archive': 1,\n",
       "         'as': 1,\n",
       "         'this': 1,\n",
       "         'file.': 1,\n",
       "         'Hex': 2,\n",
       "         'Description': 2,\n",
       "         '20': 1,\n",
       "         'SPACE': 1,\n",
       "         '21': 1,\n",
       "         'EXCLAMATION': 2,\n",
       "         'MARK': 7,\n",
       "         'A1': 1,\n",
       "         'INVERTED': 2,\n",
       "         '22': 1,\n",
       "         'QUOTATION': 3,\n",
       "         'A2': 1,\n",
       "         'CENT': 1,\n",
       "         'SIGN': 21,\n",
       "         '23': 1,\n",
       "         'NUMBER': 1,\n",
       "         'A3': 1,\n",
       "         'POUND': 1,\n",
       "         '24': 1,\n",
       "         'DOLLAR': 1,\n",
       "         'A4': 1,\n",
       "         'CURRENCY': 1,\n",
       "         '25': 1,\n",
       "         'PERCENT': 1,\n",
       "         'A5': 1,\n",
       "         'YEN': 1,\n",
       "         '26': 1,\n",
       "         'AMPERSAND': 1,\n",
       "         'A6': 1,\n",
       "         'BROKEN': 1,\n",
       "         'BAR': 1,\n",
       "         '27': 1,\n",
       "         'APOSTROPHE': 1,\n",
       "         'A7': 1,\n",
       "         'SECTION': 1,\n",
       "         '28': 1,\n",
       "         'LEFT': 3,\n",
       "         'PARENTHESIS': 2,\n",
       "         'A8': 1,\n",
       "         'DIAERESIS': 12,\n",
       "         '29': 1,\n",
       "         'RIGHT': 3,\n",
       "         'A9': 1,\n",
       "         'COPYRIGHT': 1,\n",
       "         '2A': 1,\n",
       "         'ASTERISK': 1,\n",
       "         'AA': 1,\n",
       "         'FEMININE': 1,\n",
       "         'ORDINAL': 2,\n",
       "         'INDICATOR': 2,\n",
       "         '2B': 1,\n",
       "         'PLUS': 1,\n",
       "         'AB': 1,\n",
       "         'LEFT-POINTING': 1,\n",
       "         'DOUBLE': 2,\n",
       "         'ANGLE': 2,\n",
       "         '2C': 1,\n",
       "         'COMMA': 1,\n",
       "         'AC': 1,\n",
       "         'NOT': 1,\n",
       "         '2D': 1,\n",
       "         'HYPHEN-MINUS': 1,\n",
       "         'AD': 1,\n",
       "         'SOFT': 1,\n",
       "         'HYPHEN': 1,\n",
       "         '2E': 1,\n",
       "         'FULL': 1,\n",
       "         'STOP': 1,\n",
       "         'AE': 3,\n",
       "         'REGISTERED': 1,\n",
       "         '2F': 1,\n",
       "         'SOLIDUS': 2,\n",
       "         'AF': 1,\n",
       "         'OVERLINE': 1,\n",
       "         '30': 1,\n",
       "         'DIGIT': 10,\n",
       "         'ZERO': 1,\n",
       "         'B0': 1,\n",
       "         'DEGREE': 1,\n",
       "         '31': 1,\n",
       "         'ONE': 4,\n",
       "         'B1': 1,\n",
       "         'PLUS-MINUS': 1,\n",
       "         '32': 1,\n",
       "         'TWO': 2,\n",
       "         'B2': 1,\n",
       "         'SUPERSCRIPT': 3,\n",
       "         '33': 1,\n",
       "         'THREE': 3,\n",
       "         'B3': 1,\n",
       "         '34': 1,\n",
       "         'FOUR': 1,\n",
       "         'B4': 1,\n",
       "         'ACUTE': 13,\n",
       "         'ACCENT': 3,\n",
       "         '35': 1,\n",
       "         'FIVE': 1,\n",
       "         'B5': 1,\n",
       "         'MICRO': 1,\n",
       "         '36': 1,\n",
       "         'SIX': 1,\n",
       "         'B6': 1,\n",
       "         'PILCROW': 1,\n",
       "         '37': 1,\n",
       "         'SEVEN': 1,\n",
       "         'B7': 1,\n",
       "         'MIDDLE': 1,\n",
       "         'DOT': 1,\n",
       "         '38': 1,\n",
       "         'EIGHT': 1,\n",
       "         'B8': 1,\n",
       "         'CEDILLA': 3,\n",
       "         '39': 1,\n",
       "         'NINE': 1,\n",
       "         'B9': 1,\n",
       "         '3A': 1,\n",
       "         'COLON': 1,\n",
       "         'BA': 1,\n",
       "         'MASCULINE': 1,\n",
       "         '3B': 1,\n",
       "         'SEMICOLON': 1,\n",
       "         'BB': 1,\n",
       "         'RIGHT-POINTING': 1,\n",
       "         '3C': 1,\n",
       "         'LESS-THAN': 1,\n",
       "         'BC': 1,\n",
       "         'VULGAR': 3,\n",
       "         'FRACTION': 3,\n",
       "         'QUARTER': 1,\n",
       "         '3D': 1,\n",
       "         'EQUALS': 1,\n",
       "         'BD': 1,\n",
       "         'HALF': 1,\n",
       "         '3E': 1,\n",
       "         'GREATER-THAN': 1,\n",
       "         'BE': 1,\n",
       "         'QUARTERS': 1,\n",
       "         '3F': 1,\n",
       "         'QUESTION': 2,\n",
       "         'BF': 1,\n",
       "         '40': 1,\n",
       "         'COMMERCIAL': 1,\n",
       "         'AT': 1,\n",
       "         'C0': 1,\n",
       "         'CAPITAL': 56,\n",
       "         'LETTER': 114,\n",
       "         'WITH': 55,\n",
       "         'GRAVE': 11,\n",
       "         '41': 1,\n",
       "         'C1': 1,\n",
       "         '42': 1,\n",
       "         'B': 2,\n",
       "         'C2': 1,\n",
       "         'CIRCUMFLEX': 11,\n",
       "         '43': 1,\n",
       "         'C': 4,\n",
       "         'C3': 1,\n",
       "         'TILDE': 7,\n",
       "         '44': 1,\n",
       "         'D': 2,\n",
       "         'C4': 1,\n",
       "         '45': 1,\n",
       "         'E': 10,\n",
       "         'C5': 1,\n",
       "         'RING': 2,\n",
       "         'ABOVE': 2,\n",
       "         '46': 1,\n",
       "         'F': 2,\n",
       "         'C6': 1,\n",
       "         '47': 1,\n",
       "         'G': 2,\n",
       "         'C7': 1,\n",
       "         '48': 1,\n",
       "         'H': 2,\n",
       "         'C8': 1,\n",
       "         '49': 1,\n",
       "         'I': 10,\n",
       "         'C9': 1,\n",
       "         '4A': 1,\n",
       "         'J': 2,\n",
       "         'CA': 1,\n",
       "         '4B': 1,\n",
       "         'K': 2,\n",
       "         'CB': 1,\n",
       "         '4C': 1,\n",
       "         'L': 2,\n",
       "         'CC': 1,\n",
       "         '4D': 1,\n",
       "         'M': 2,\n",
       "         'CD': 1,\n",
       "         '4E': 1,\n",
       "         'N': 4,\n",
       "         'CE': 1,\n",
       "         '4F': 1,\n",
       "         'O': 14,\n",
       "         'CF': 1,\n",
       "         '50': 1,\n",
       "         'P': 2,\n",
       "         'D0': 1,\n",
       "         'ETH': 2,\n",
       "         '(Icelandic)': 4,\n",
       "         '51': 1,\n",
       "         'Q': 2,\n",
       "         'D1': 1,\n",
       "         '52': 1,\n",
       "         'R': 2,\n",
       "         'D2': 1,\n",
       "         '53': 1,\n",
       "         'S': 3,\n",
       "         'D3': 1,\n",
       "         '54': 1,\n",
       "         'T': 2,\n",
       "         'D4': 1,\n",
       "         '55': 1,\n",
       "         'U': 10,\n",
       "         'D5': 1,\n",
       "         '56': 1,\n",
       "         'V': 2,\n",
       "         'D6': 1,\n",
       "         '57': 1,\n",
       "         'W': 2,\n",
       "         'D7': 1,\n",
       "         'MULTIPLICATION': 1,\n",
       "         '58': 1,\n",
       "         'X': 2,\n",
       "         'D8': 1,\n",
       "         'STROKE': 2,\n",
       "         '59': 1,\n",
       "         'Y': 5,\n",
       "         'D9': 1,\n",
       "         '5A': 1,\n",
       "         'Z': 2,\n",
       "         'DA': 1,\n",
       "         '5B': 1,\n",
       "         'SQUARE': 2,\n",
       "         'BRACKET': 4,\n",
       "         'DB': 1,\n",
       "         '5C': 1,\n",
       "         'REVERSE': 1,\n",
       "         'DC': 1,\n",
       "         '5D': 1,\n",
       "         'DD': 1,\n",
       "         '5E': 1,\n",
       "         'DE': 1,\n",
       "         'THORN': 2,\n",
       "         '5F': 1,\n",
       "         'LOW': 1,\n",
       "         'LINE': 2,\n",
       "         'DF': 1,\n",
       "         'SMALL': 58,\n",
       "         'SHARP': 1,\n",
       "         '(German)': 1,\n",
       "         '60': 1,\n",
       "         'E0': 1,\n",
       "         '61': 1,\n",
       "         'E1': 1,\n",
       "         '62': 1,\n",
       "         'E2': 1,\n",
       "         '63': 1,\n",
       "         'E3': 1,\n",
       "         '64': 1,\n",
       "         'E4': 1,\n",
       "         '65': 1,\n",
       "         'E5': 1,\n",
       "         '66': 1,\n",
       "         'E6': 1,\n",
       "         '67': 1,\n",
       "         'E7': 1,\n",
       "         '68': 1,\n",
       "         'E8': 1,\n",
       "         '69': 1,\n",
       "         'E9': 1,\n",
       "         '6A': 1,\n",
       "         'EA': 1,\n",
       "         '6B': 1,\n",
       "         'EB': 1,\n",
       "         '6C': 1,\n",
       "         'EC': 1,\n",
       "         '6D': 1,\n",
       "         'ED': 1,\n",
       "         '6E': 1,\n",
       "         'EE': 1,\n",
       "         '6F': 1,\n",
       "         'EF': 1,\n",
       "         '70': 1,\n",
       "         'F0': 1,\n",
       "         '71': 1,\n",
       "         'F1': 1,\n",
       "         '72': 1,\n",
       "         'F2': 1,\n",
       "         '73': 1,\n",
       "         'F3': 1,\n",
       "         '74': 1,\n",
       "         'F4': 1,\n",
       "         '75': 1,\n",
       "         'F5': 1,\n",
       "         '76': 1,\n",
       "         'F6': 1,\n",
       "         '77': 1,\n",
       "         'F7': 1,\n",
       "         'DIVISION': 1,\n",
       "         '78': 1,\n",
       "         'F8': 1,\n",
       "         '79': 1,\n",
       "         'F9': 1,\n",
       "         '7A': 1,\n",
       "         'FA': 1,\n",
       "         '7B': 1,\n",
       "         'CURLY': 2,\n",
       "         'FB': 1,\n",
       "         '7C': 1,\n",
       "         'VERTICAL': 1,\n",
       "         'FC': 1,\n",
       "         '7D': 1,\n",
       "         'FD': 1,\n",
       "         '7E': 1,\n",
       "         'FE': 1,\n",
       "         'FF': 1})"
      ]
     },
     "execution_count": 64,
     "metadata": {},
     "output_type": "execute_result"
    }
   ],
   "source": [
    "import collections\n",
    "\n",
    "word_counter = collections.Counter(words)\n",
    "word_counter"
   ]
  },
  {
   "cell_type": "code",
   "execution_count": 65,
   "metadata": {},
   "outputs": [
    {
     "name": "stdout",
     "output_type": "stream",
     "text": [
      "LETTER - 114\n",
      "SMALL - 58\n",
      "CAPITAL - 56\n",
      "WITH - 55\n",
      "SIGN - 21\n"
     ]
    }
   ],
   "source": [
    "for word, count in word_counter.most_common(5):\n",
    "    print(word, \"-\", count)"
   ]
  },
  {
   "cell_type": "code",
   "execution_count": 66,
   "metadata": {},
   "outputs": [
    {
     "name": "stdout",
     "output_type": "stream",
     "text": [
      "QUESTION - 2\n",
      "CIRCUMFLEX - 11\n",
      "DIGIT - 10\n",
      "PYTHON - 0\n"
     ]
    }
   ],
   "source": [
    "print(\"QUESTION\", \"-\", word_counter[\"QUESTION\"])\n",
    "print(\"CIRCUMFLEX\", \"-\", word_counter[\"CIRCUMFLEX\"])\n",
    "print(\"DIGIT\", \"-\", word_counter[\"DIGIT\"])\n",
    "print(\"PYTHON\", \"-\", word_counter[\"PYTHON\"])"
   ]
  },
  {
   "cell_type": "code",
   "execution_count": null,
   "metadata": {},
   "outputs": [],
   "source": []
  },
  {
   "cell_type": "code",
   "execution_count": 67,
   "metadata": {},
   "outputs": [],
   "source": [
    "d = {}\n",
    "\n",
    "def function(x):\n",
    "    if x not in d:\n",
    "        d[x] = 0\n",
    "    else:\n",
    "        d[x] += 1"
   ]
  },
  {
   "cell_type": "code",
   "execution_count": 68,
   "metadata": {},
   "outputs": [],
   "source": [
    "d = {}\n",
    "\n",
    "def function(x):\n",
    "    try:\n",
    "        d[x] += 1\n",
    "    except KeyError:\n",
    "        d[x] = 1"
   ]
  },
  {
   "cell_type": "code",
   "execution_count": 69,
   "metadata": {},
   "outputs": [],
   "source": [
    "import collections\n",
    "\n",
    "d = collections.defaultdict(int)\n",
    "\n",
    "def function(x):\n",
    "    d[x] += 1"
   ]
  },
  {
   "cell_type": "code",
   "execution_count": 70,
   "metadata": {},
   "outputs": [],
   "source": [
    "_audit = {}\n",
    "\n",
    "def add_audit(area, action):\n",
    "    if area in _audit:\n",
    "        _audit[area].append(action)\n",
    "    else:\n",
    "        _audit[area] = [action]\n",
    "        \n",
    "def report_audit():\n",
    "    for area, actions in _audit.items():\n",
    "        print(f\"{area} audit:\")\n",
    "        for action in actions:\n",
    "            print(f\"- {action}\")\n",
    "        print()"
   ]
  },
  {
   "cell_type": "code",
   "execution_count": 71,
   "metadata": {},
   "outputs": [
    {
     "name": "stdout",
     "output_type": "stream",
     "text": [
      "HR audit:\n",
      "- Hired Sam\n",
      "- Hired Tom\n",
      "\n",
      "Finance audit:\n",
      "- Used 1000£\n",
      "\n"
     ]
    }
   ],
   "source": [
    "add_audit(\"HR\", \"Hired Sam\")\n",
    "add_audit(\"Finance\", \"Used 1000£\")\n",
    "add_audit(\"HR\", \"Hired Tom\")\n",
    "report_audit()"
   ]
  },
  {
   "cell_type": "code",
   "execution_count": 72,
   "metadata": {},
   "outputs": [],
   "source": [
    "import collections\n",
    "\n",
    "_audit = collections.defaultdict(list)\n",
    "\n",
    "\n",
    "def add_audit(area, action):\n",
    "    _audit[area].append(action)\n",
    "    \n",
    "    \n",
    "def report_audit():\n",
    "    for area, actions in _audit.items():\n",
    "        print(f\"{area} audit:\")\n",
    "        for action in actions:\n",
    "            print(f\"- {action}\")\n",
    "        print()"
   ]
  },
  {
   "cell_type": "code",
   "execution_count": 73,
   "metadata": {},
   "outputs": [],
   "source": [
    "def add_audit(area, action):\n",
    "    if area not in _audit:\n",
    "        _audit[area] = [\"Area created\"]\n",
    "    _audit[area].append(action)"
   ]
  },
  {
   "cell_type": "code",
   "execution_count": 74,
   "metadata": {},
   "outputs": [],
   "source": [
    "import collections\n",
    "\n",
    "_audit = collections.defaultdict(lambda: [\"Area created\"])\n",
    "\n",
    "def add_audit(area, action):\n",
    "    _audit[area].append(action)\n",
    "        \n",
    "        \n",
    "def report_audit():\n",
    "    for area, actions in _audit.items():\n",
    "        print(f\"{area} audit:\")\n",
    "        for action in actions:\n",
    "            print(f\"- {action}\")\n",
    "        print()"
   ]
  },
  {
   "cell_type": "code",
   "execution_count": 75,
   "metadata": {},
   "outputs": [
    {
     "name": "stdout",
     "output_type": "stream",
     "text": [
      "HR audit:\n",
      "- Area created\n",
      "- Hired Sam\n",
      "- Hired Tom\n",
      "\n",
      "Finance audit:\n",
      "- Area created\n",
      "- Used 1000£\n",
      "\n"
     ]
    }
   ],
   "source": [
    "add_audit(\"HR\", \"Hired Sam\")\n",
    "add_audit(\"Finance\", \"Used 1000£\")\n",
    "add_audit(\"HR\", \"Hired Tom\")\n",
    "report_audit()"
   ]
  },
  {
   "cell_type": "code",
   "execution_count": null,
   "metadata": {},
   "outputs": [],
   "source": []
  },
  {
   "cell_type": "code",
   "execution_count": 76,
   "metadata": {},
   "outputs": [],
   "source": [
    "import collections\n",
    "\n",
    "_defaults = {\n",
    "    \"apetisers\": \"Hummus\",\n",
    "    \"main\": \"Pizza\",\n",
    "    \"desert\": \"Chocolate cake\",\n",
    "    \"drink\": \"Water\",\n",
    "}\n",
    "\n",
    "\n",
    "def prepare_menu(customizations):\n",
    "    return collections.ChainMap(customizations, _defaults)\n",
    "\n",
    "\n",
    "def print_menu(menu):\n",
    "    for key, value in menu.items():\n",
    "        print(f\"As {key}: {value}.\")"
   ]
  },
  {
   "cell_type": "code",
   "execution_count": 77,
   "metadata": {},
   "outputs": [
    {
     "name": "stdout",
     "output_type": "stream",
     "text": [
      "As apetisers: Hummus.\n",
      "As main: Pizza.\n",
      "As desert: Chocolate cake.\n",
      "As drink: Water.\n"
     ]
    }
   ],
   "source": [
    "menu1 = prepare_menu({})\n",
    "print_menu(menu1)"
   ]
  },
  {
   "cell_type": "code",
   "execution_count": 78,
   "metadata": {},
   "outputs": [
    {
     "name": "stdout",
     "output_type": "stream",
     "text": [
      "As apetisers: Hummus.\n",
      "As main: Pizza.\n",
      "As desert: Chocolate cake.\n",
      "As drink: Water.\n",
      "As side: French fries.\n"
     ]
    }
   ],
   "source": [
    "menu3 = prepare_menu({\"side\": \"French fries\"})\n",
    "print_menu(menu3)"
   ]
  },
  {
   "cell_type": "code",
   "execution_count": 79,
   "metadata": {},
   "outputs": [
    {
     "name": "stdout",
     "output_type": "stream",
     "text": [
      "As apetisers: Hummus.\n",
      "As main: Pizza.\n",
      "As desert: Chocolate cake.\n",
      "As drink: Red Wine.\n"
     ]
    }
   ],
   "source": [
    "menu2 = prepare_menu({\"drink\": \"Red Wine\"})\n",
    "print_menu(menu2)"
   ]
  },
  {
   "cell_type": "code",
   "execution_count": 80,
   "metadata": {},
   "outputs": [
    {
     "name": "stdout",
     "output_type": "stream",
     "text": [
      "As apetisers: Hummus.\n",
      "As main: Pasta.\n",
      "As desert: Chocolate cake.\n",
      "As drink: Water.\n",
      "As side: French fries.\n"
     ]
    }
   ],
   "source": [
    "_defaults[\"main\"] = \"Pasta\"\n",
    "print_menu(menu3)"
   ]
  },
  {
   "cell_type": "code",
   "execution_count": null,
   "metadata": {},
   "outputs": [],
   "source": []
  },
  {
   "cell_type": "code",
   "execution_count": 81,
   "metadata": {},
   "outputs": [],
   "source": [
    "import time\n",
    "\n",
    "def func(x):\n",
    "    time.sleep(1)\n",
    "    print(f\"Heavy operation for {x}\")\n",
    "    \n",
    "    return x * 10"
   ]
  },
  {
   "cell_type": "code",
   "execution_count": 82,
   "metadata": {},
   "outputs": [
    {
     "name": "stdout",
     "output_type": "stream",
     "text": [
      "Heavy operation for 1\n",
      "Func returned: 10\n",
      "Heavy operation for 1\n",
      "Func returned: 10\n"
     ]
    }
   ],
   "source": [
    "print(\"Func returned:\", func(1))\n",
    "print(\"Func returned:\", func(1))"
   ]
  },
  {
   "cell_type": "code",
   "execution_count": 83,
   "metadata": {},
   "outputs": [],
   "source": [
    "import functools\n",
    "import time\n",
    "\n",
    "@functools.lru_cache()\n",
    "def func(x):\n",
    "    time.sleep(1)\n",
    "    print(f\"Heavy operation for {x}\")\n",
    "    \n",
    "    return x * 10"
   ]
  },
  {
   "cell_type": "code",
   "execution_count": 84,
   "metadata": {},
   "outputs": [
    {
     "name": "stdout",
     "output_type": "stream",
     "text": [
      "Heavy operation for 1\n",
      "Func returned: 10\n",
      "Func returned: 10\n",
      "Heavy operation for 2\n",
      "Func returned: 20\n"
     ]
    }
   ],
   "source": [
    "print(\"Func returned:\", func(1))\n",
    "print(\"Func returned:\", func(1))\n",
    "print(\"Func returned:\", func(2))"
   ]
  },
  {
   "cell_type": "code",
   "execution_count": 85,
   "metadata": {},
   "outputs": [],
   "source": [
    "import functools\n",
    "import time\n",
    "\n",
    "@functools.lru_cache(maxsize=2)\n",
    "def func(x):\n",
    "    time.sleep(1)\n",
    "    print(f\"Heavy operation for {x}\")\n",
    "    \n",
    "    return x * 10"
   ]
  },
  {
   "cell_type": "code",
   "execution_count": 86,
   "metadata": {},
   "outputs": [
    {
     "name": "stdout",
     "output_type": "stream",
     "text": [
      "Heavy operation for 1\n",
      "Func returned: 10\n",
      "Heavy operation for 2\n",
      "Func returned: 20\n",
      "Heavy operation for 3\n",
      "Func returned: 30\n",
      "Func returned: 30\n",
      "Func returned: 20\n",
      "Heavy operation for 1\n",
      "Func returned: 10\n"
     ]
    }
   ],
   "source": [
    "print(\"Func returned:\", func(1))\n",
    "print(\"Func returned:\", func(2))\n",
    "print(\"Func returned:\", func(3))\n",
    "print(\"Func returned:\", func(3))\n",
    "print(\"Func returned:\", func(2))\n",
    "print(\"Func returned:\", func(1))"
   ]
  },
  {
   "cell_type": "code",
   "execution_count": 87,
   "metadata": {},
   "outputs": [],
   "source": [
    "import functools\n",
    "import time\n",
    "\n",
    "def func(x):\n",
    "    time.sleep(1)\n",
    "    print(f\"Heavy operation for {x}\")\n",
    "    \n",
    "    return x * 10\n",
    "\n",
    "cached_func = functools.lru_cache()(func)"
   ]
  },
  {
   "cell_type": "code",
   "execution_count": 88,
   "metadata": {},
   "outputs": [
    {
     "name": "stdout",
     "output_type": "stream",
     "text": [
      "Heavy operation for 1\n",
      "Cached func returned: 10\n",
      "Cached func returned: 10\n",
      "Heavy operation for 1\n",
      "Func returned: 10\n",
      "Heavy operation for 1\n",
      "Func returned: 10\n"
     ]
    }
   ],
   "source": [
    "print(\"Cached func returned:\", cached_func(1))\n",
    "print(\"Cached func returned:\", cached_func(1))\n",
    "print(\"Func returned:\", func(1))\n",
    "print(\"Func returned:\", func(1))"
   ]
  },
  {
   "cell_type": "code",
   "execution_count": null,
   "metadata": {},
   "outputs": [],
   "source": []
  },
  {
   "cell_type": "code",
   "execution_count": 89,
   "metadata": {},
   "outputs": [
    {
     "name": "stdout",
     "output_type": "stream",
     "text": [
      "x: 1\n",
      "y: 2\n",
      "z: 3\n"
     ]
    }
   ],
   "source": [
    "def func(x, y, z):\n",
    "    print(\"x:\", x)\n",
    "    print(\"y:\", y)\n",
    "    print(\"z:\", z)\n",
    "    \n",
    "func(1, 2, 3)"
   ]
  },
  {
   "cell_type": "code",
   "execution_count": 90,
   "metadata": {},
   "outputs": [
    {
     "name": "stdout",
     "output_type": "stream",
     "text": [
      "x: 1\n",
      "y: 2\n",
      "z: Wops\n"
     ]
    }
   ],
   "source": [
    "import functools\n",
    "\n",
    "new_func = functools.partial(func, z='Wops')\n",
    "\n",
    "new_func(1, 2)"
   ]
  },
  {
   "cell_type": "code",
   "execution_count": 91,
   "metadata": {},
   "outputs": [
    {
     "name": "stdout",
     "output_type": "stream",
     "text": [
      "Help on built-in function print in module builtins:\n",
      "\n",
      "print(...)\n",
      "    print(value, ..., sep=' ', end='\\n', file=sys.stdout, flush=False)\n",
      "    \n",
      "    Prints the values to a stream, or to sys.stdout by default.\n",
      "    Optional keyword arguments:\n",
      "    file:  a file-like object (stream); defaults to the current sys.stdout.\n",
      "    sep:   string inserted between values, default a space.\n",
      "    end:   string appended after the last value, default a newline.\n",
      "    flush: whether to forcibly flush the stream.\n",
      "\n"
     ]
    }
   ],
   "source": [
    "help(print)"
   ]
  },
  {
   "cell_type": "code",
   "execution_count": 92,
   "metadata": {},
   "outputs": [
    {
     "name": "stderr",
     "output_type": "stream",
     "text": [
      "Hello stderr\n"
     ]
    }
   ],
   "source": [
    "import sys\n",
    "print(\"Hello stderr\", file=sys.stderr)"
   ]
  },
  {
   "cell_type": "code",
   "execution_count": 93,
   "metadata": {},
   "outputs": [
    {
     "name": "stderr",
     "output_type": "stream",
     "text": [
      "Hello stderr\n"
     ]
    }
   ],
   "source": [
    "import functools\n",
    "\n",
    "print_stderr = functools.partial(print, file=sys.stderr)\n",
    "print_stderr(\"Hello stderr\")"
   ]
  },
  {
   "cell_type": "markdown",
   "metadata": {},
   "source": [
    "### Activity 17"
   ]
  },
  {
   "cell_type": "code",
   "execution_count": 94,
   "metadata": {},
   "outputs": [
    {
     "ename": "TypeError",
     "evalue": "rename() missing 1 required positional argument: 'new_name'",
     "output_type": "error",
     "traceback": [
      "\u001b[0;31m---------------------------------------------------------------------------\u001b[0m",
      "\u001b[0;31mTypeError\u001b[0m                                 Traceback (most recent call last)",
      "\u001b[0;32m<ipython-input-94-4404520960da>\u001b[0m in \u001b[0;36m<module>\u001b[0;34m\u001b[0m\n\u001b[1;32m     23\u001b[0m     \u001b[0mhero\u001b[0m\u001b[0;34m.\u001b[0m\u001b[0mrename\u001b[0m\u001b[0;34m(\u001b[0m\u001b[0;34m\"Batman\"\u001b[0m\u001b[0;34m)\u001b[0m\u001b[0;34m\u001b[0m\u001b[0;34m\u001b[0m\u001b[0m\n\u001b[1;32m     24\u001b[0m     \u001b[0;32massert\u001b[0m \u001b[0mhero\u001b[0m\u001b[0;34m.\u001b[0m\u001b[0mname\u001b[0m \u001b[0;34m==\u001b[0m \u001b[0;34m\"Batman\"\u001b[0m\u001b[0;34m\u001b[0m\u001b[0;34m\u001b[0m\u001b[0m\n\u001b[0;32m---> 25\u001b[0;31m     \u001b[0mhero\u001b[0m\u001b[0;34m.\u001b[0m\u001b[0mreset_name\u001b[0m\u001b[0;34m(\u001b[0m\u001b[0;34m)\u001b[0m\u001b[0;34m\u001b[0m\u001b[0;34m\u001b[0m\u001b[0m\n\u001b[0m\u001b[1;32m     26\u001b[0m     \u001b[0;32massert\u001b[0m \u001b[0mhero\u001b[0m\u001b[0;34m.\u001b[0m\u001b[0mname\u001b[0m \u001b[0;34m==\u001b[0m \u001b[0;34m\"Superman\"\u001b[0m\u001b[0;34m\u001b[0m\u001b[0;34m\u001b[0m\u001b[0m\n",
      "\u001b[0;31mTypeError\u001b[0m: rename() missing 1 required positional argument: 'new_name'"
     ]
    }
   ],
   "source": [
    "import functools\n",
    "\n",
    "\n",
    "class Hero:\n",
    "    \n",
    "    DEFAULT_NAME = \"Superman\"\n",
    "    \n",
    "    def __init__(self):\n",
    "        self.name = Hero.DEFAULT_NAME\n",
    "   \n",
    "    def rename(self, new_name):\n",
    "        self.name = new_name\n",
    "   \n",
    "    reset_name = functools.partial(rename, DEFAULT_NAME)\n",
    "   \n",
    "    def __repr__(self):\n",
    "        return f\"Hero({self.name!r})\"\n",
    "    \n",
    "    \n",
    "if __name__ == \"__main__\":\n",
    "    hero = Hero()\n",
    "    assert hero.name == \"Superman\"\n",
    "    hero.rename(\"Batman\")\n",
    "    assert hero.name == \"Batman\"\n",
    "    hero.reset_name()\n",
    "    assert hero.name == \"Superman\""
   ]
  },
  {
   "cell_type": "code",
   "execution_count": 95,
   "metadata": {},
   "outputs": [],
   "source": [
    "# Solution"
   ]
  },
  {
   "cell_type": "code",
   "execution_count": 96,
   "metadata": {},
   "outputs": [
    {
     "name": "stdout",
     "output_type": "stream",
     "text": [
      "Help on module functools:\n",
      "\n",
      "NAME\n",
      "    functools - functools.py - Tools for working with functions and callable objects\n",
      "\n",
      "MODULE REFERENCE\n",
      "    https://docs.python.org/3.7/library/functools\n",
      "    \n",
      "    The following documentation is automatically generated from the Python\n",
      "    source files.  It may be incomplete, incorrect or include features that\n",
      "    are considered implementation detail and may vary between Python\n",
      "    implementations.  When in doubt, consult the module reference at the\n",
      "    location listed above.\n",
      "\n",
      "CLASSES\n",
      "    builtins.object\n",
      "        partial\n",
      "        partialmethod\n",
      "    \n",
      "    class partial(builtins.object)\n",
      "     |  partial(func, *args, **keywords) - new function with partial application\n",
      "     |  of the given arguments and keywords.\n",
      "     |  \n",
      "     |  Methods defined here:\n",
      "     |  \n",
      "     |  __call__(self, /, *args, **kwargs)\n",
      "     |      Call self as a function.\n",
      "     |  \n",
      "     |  __delattr__(self, name, /)\n",
      "     |      Implement delattr(self, name).\n",
      "     |  \n",
      "     |  __getattribute__(self, name, /)\n",
      "     |      Return getattr(self, name).\n",
      "     |  \n",
      "     |  __reduce__(...)\n",
      "     |      Helper for pickle.\n",
      "     |  \n",
      "     |  __repr__(self, /)\n",
      "     |      Return repr(self).\n",
      "     |  \n",
      "     |  __setattr__(self, name, value, /)\n",
      "     |      Implement setattr(self, name, value).\n",
      "     |  \n",
      "     |  __setstate__(...)\n",
      "     |  \n",
      "     |  ----------------------------------------------------------------------\n",
      "     |  Static methods defined here:\n",
      "     |  \n",
      "     |  __new__(*args, **kwargs) from builtins.type\n",
      "     |      Create and return a new object.  See help(type) for accurate signature.\n",
      "     |  \n",
      "     |  ----------------------------------------------------------------------\n",
      "     |  Data descriptors defined here:\n",
      "     |  \n",
      "     |  __dict__\n",
      "     |  \n",
      "     |  args\n",
      "     |      tuple of arguments to future partial calls\n",
      "     |  \n",
      "     |  func\n",
      "     |      function object to use in future partial calls\n",
      "     |  \n",
      "     |  keywords\n",
      "     |      dictionary of keyword arguments to future partial calls\n",
      "    \n",
      "    class partialmethod(builtins.object)\n",
      "     |  partialmethod(*args, **keywords)\n",
      "     |  \n",
      "     |  Method descriptor with partial application of the given arguments\n",
      "     |  and keywords.\n",
      "     |  \n",
      "     |  Supports wrapping existing descriptors and handles non-descriptor\n",
      "     |  callables as instance methods.\n",
      "     |  \n",
      "     |  Methods defined here:\n",
      "     |  \n",
      "     |  __get__(self, obj, cls)\n",
      "     |  \n",
      "     |  __init__(*args, **keywords)\n",
      "     |      Initialize self.  See help(type(self)) for accurate signature.\n",
      "     |  \n",
      "     |  __repr__(self)\n",
      "     |      Return repr(self).\n",
      "     |  \n",
      "     |  ----------------------------------------------------------------------\n",
      "     |  Data descriptors defined here:\n",
      "     |  \n",
      "     |  __dict__\n",
      "     |      dictionary for instance variables (if defined)\n",
      "     |  \n",
      "     |  __isabstractmethod__\n",
      "     |  \n",
      "     |  __weakref__\n",
      "     |      list of weak references to the object (if defined)\n",
      "\n",
      "FUNCTIONS\n",
      "    cmp_to_key(...)\n",
      "        Convert a cmp= function into a key= function.\n",
      "    \n",
      "    lru_cache(maxsize=128, typed=False)\n",
      "        Least-recently-used cache decorator.\n",
      "        \n",
      "        If *maxsize* is set to None, the LRU features are disabled and the cache\n",
      "        can grow without bound.\n",
      "        \n",
      "        If *typed* is True, arguments of different types will be cached separately.\n",
      "        For example, f(3.0) and f(3) will be treated as distinct calls with\n",
      "        distinct results.\n",
      "        \n",
      "        Arguments to the cached function must be hashable.\n",
      "        \n",
      "        View the cache statistics named tuple (hits, misses, maxsize, currsize)\n",
      "        with f.cache_info().  Clear the cache and statistics with f.cache_clear().\n",
      "        Access the underlying function with f.__wrapped__.\n",
      "        \n",
      "        See:  http://en.wikipedia.org/wiki/Cache_replacement_policies#Least_recently_used_(LRU)\n",
      "    \n",
      "    reduce(...)\n",
      "        reduce(function, sequence[, initial]) -> value\n",
      "        \n",
      "        Apply a function of two arguments cumulatively to the items of a sequence,\n",
      "        from left to right, so as to reduce the sequence to a single value.\n",
      "        For example, reduce(lambda x, y: x+y, [1, 2, 3, 4, 5]) calculates\n",
      "        ((((1+2)+3)+4)+5).  If initial is present, it is placed before the items\n",
      "        of the sequence in the calculation, and serves as a default when the\n",
      "        sequence is empty.\n",
      "    \n",
      "    singledispatch(func)\n",
      "        Single-dispatch generic function decorator.\n",
      "        \n",
      "        Transforms a function into a generic function, which can have different\n",
      "        behaviours depending upon the type of its first argument. The decorated\n",
      "        function acts as the default implementation, and additional\n",
      "        implementations can be registered using the register() attribute of the\n",
      "        generic function.\n",
      "    \n",
      "    total_ordering(cls)\n",
      "        Class decorator that fills in missing ordering methods\n",
      "    \n",
      "    update_wrapper(wrapper, wrapped, assigned=('__module__', '__name__', '__qualname__', '__doc__', '__annotations__'), updated=('__dict__',))\n",
      "        Update a wrapper function to look like the wrapped function\n",
      "        \n",
      "        wrapper is the function to be updated\n",
      "        wrapped is the original function\n",
      "        assigned is a tuple naming the attributes assigned directly\n",
      "        from the wrapped function to the wrapper function (defaults to\n",
      "        functools.WRAPPER_ASSIGNMENTS)\n",
      "        updated is a tuple naming the attributes of the wrapper that\n",
      "        are updated with the corresponding attribute from the wrapped\n",
      "        function (defaults to functools.WRAPPER_UPDATES)\n",
      "    \n",
      "    wraps(wrapped, assigned=('__module__', '__name__', '__qualname__', '__doc__', '__annotations__'), updated=('__dict__',))\n",
      "        Decorator factory to apply update_wrapper() to a wrapper function\n",
      "        \n",
      "        Returns a decorator that invokes update_wrapper() with the decorated\n",
      "        function as the wrapper argument and the arguments to wraps() as the\n",
      "        remaining arguments. Default arguments are as for update_wrapper().\n",
      "        This is a convenience function to simplify applying partial() to\n",
      "        update_wrapper().\n",
      "\n",
      "DATA\n",
      "    WRAPPER_ASSIGNMENTS = ('__module__', '__name__', '__qualname__', '__do...\n",
      "    WRAPPER_UPDATES = ('__dict__',)\n",
      "    __all__ = ['update_wrapper', 'wraps', 'WRAPPER_ASSIGNMENTS', 'WRAPPER_...\n",
      "\n",
      "FILE\n",
      "    /opt/anaconda3/envs/my_env/lib/python3.7/functools.py\n",
      "\n",
      "\n"
     ]
    }
   ],
   "source": [
    "help(functools)"
   ]
  },
  {
   "cell_type": "code",
   "execution_count": 97,
   "metadata": {},
   "outputs": [],
   "source": [
    "import functools\n",
    "\n",
    "\n",
    "class Hero:\n",
    "    \n",
    "    DEFAULT_NAME = \"Superman\"\n",
    "    \n",
    "    def __init__(self):\n",
    "        self.name = Hero.DEFAULT_NAME\n",
    "   \n",
    "    def rename(self, new_name):\n",
    "        self.name = new_name\n",
    "   \n",
    "    reset_name = functools.partialmethod(rename, DEFAULT_NAME)\n",
    "   \n",
    "    def __repr__(self):\n",
    "        return f\"Hero({self.name!r})\"\n",
    "    \n",
    "    \n",
    "if __name__ == \"__main__\":\n",
    "    hero = Hero()\n",
    "    assert hero.name == \"Superman\"\n",
    "    hero.rename(\"Batman\")\n",
    "    assert hero.name == \"Batman\"\n",
    "    hero.reset_name()\n",
    "    assert hero.name == \"Superman\""
   ]
  },
  {
   "cell_type": "code",
   "execution_count": null,
   "metadata": {},
   "outputs": [],
   "source": []
  }
 ],
 "metadata": {
  "kernelspec": {
   "display_name": "Python 3",
   "language": "python",
   "name": "python3"
  },
  "language_info": {
   "codemirror_mode": {
    "name": "ipython",
    "version": 3
   },
   "file_extension": ".py",
   "mimetype": "text/x-python",
   "name": "python",
   "nbconvert_exporter": "python",
   "pygments_lexer": "ipython3",
   "version": "3.7.5"
  }
 },
 "nbformat": 4,
 "nbformat_minor": 4
}
