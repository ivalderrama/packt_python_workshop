{
 "cells": [
  {
   "cell_type": "code",
   "execution_count": 1,
   "metadata": {},
   "outputs": [
    {
     "name": "stdout",
     "output_type": "stream",
     "text": [
      "1\n",
      "2\n",
      "Fizz\n",
      "4\n",
      "Buzz\n",
      "Fizz\n",
      "7\n",
      "8\n",
      "Fizz\n",
      "Buzz\n",
      "11\n",
      "Fizz\n",
      "13\n",
      "14\n",
      "FizzBuzz\n",
      "16\n",
      "17\n",
      "Fizz\n",
      "19\n",
      "Buzz\n",
      "Fizz\n",
      "22\n",
      "23\n",
      "Fizz\n",
      "Buzz\n",
      "26\n",
      "Fizz\n",
      "28\n",
      "29\n",
      "FizzBuzz\n",
      "31\n",
      "32\n",
      "Fizz\n",
      "34\n",
      "Buzz\n",
      "Fizz\n",
      "37\n",
      "38\n",
      "Fizz\n",
      "Buzz\n",
      "41\n",
      "Fizz\n",
      "43\n",
      "44\n",
      "FizzBuzz\n",
      "46\n",
      "47\n",
      "Fizz\n",
      "49\n",
      "Buzz\n",
      "Fizz\n",
      "52\n",
      "53\n",
      "Fizz\n",
      "Buzz\n",
      "56\n",
      "Fizz\n",
      "58\n",
      "59\n",
      "FizzBuzz\n",
      "61\n",
      "62\n",
      "Fizz\n",
      "64\n",
      "Buzz\n",
      "Fizz\n",
      "67\n",
      "68\n",
      "Fizz\n",
      "Buzz\n",
      "71\n",
      "Fizz\n",
      "73\n",
      "74\n",
      "FizzBuzz\n",
      "76\n",
      "77\n",
      "Fizz\n",
      "79\n",
      "Buzz\n",
      "Fizz\n",
      "82\n",
      "83\n",
      "Fizz\n",
      "Buzz\n",
      "86\n",
      "Fizz\n",
      "88\n",
      "89\n",
      "FizzBuzz\n",
      "91\n",
      "92\n",
      "Fizz\n",
      "94\n",
      "Buzz\n",
      "Fizz\n",
      "97\n",
      "98\n",
      "Fizz\n",
      "Buzz\n"
     ]
    }
   ],
   "source": [
    "for i in range(1,101):\n",
    "    if i%3 == 0 and i%5 == 0:\n",
    "        print(\"FizzBuzz\")\n",
    "    elif i%5 == 0:\n",
    "        print(\"Buzz\")\n",
    "    elif i%3 == 0:\n",
    "        print(\"Fizz\")\n",
    "    else:\n",
    "        print(i)"
   ]
  },
  {
   "cell_type": "code",
   "execution_count": 2,
   "metadata": {},
   "outputs": [],
   "source": [
    "import execnet\n",
    "\n",
    "\n",
    "def square(channel):\n",
    "    while not channel.isclosed():\n",
    "        number = channel.recieve()\n",
    "        number_squared = number**2\n",
    "        channel.send(number_squared)"
   ]
  },
  {
   "cell_type": "code",
   "execution_count": 3,
   "metadata": {},
   "outputs": [],
   "source": [
    "gateway = execnet.makegateway()\n",
    "channel = gateway.remote_exec(square)"
   ]
  },
  {
   "cell_type": "code",
   "execution_count": 4,
   "metadata": {},
   "outputs": [
    {
     "ename": "OSError",
     "evalue": "cannot send to <Channel id=1 closed>",
     "output_type": "error",
     "traceback": [
      "\u001b[0;31m---------------------------------------------------------------------------\u001b[0m",
      "\u001b[0;31mOSError\u001b[0m                                   Traceback (most recent call last)",
      "\u001b[0;32m<ipython-input-4-3f7f702d57b2>\u001b[0m in \u001b[0;36m<module>\u001b[0;34m\u001b[0m\n\u001b[1;32m      1\u001b[0m \u001b[0;32mfor\u001b[0m \u001b[0mi\u001b[0m \u001b[0;32min\u001b[0m \u001b[0mrange\u001b[0m\u001b[0;34m(\u001b[0m\u001b[0;36m10\u001b[0m\u001b[0;34m)\u001b[0m\u001b[0;34m:\u001b[0m\u001b[0;34m\u001b[0m\u001b[0;34m\u001b[0m\u001b[0m\n\u001b[0;32m----> 2\u001b[0;31m     \u001b[0mchannel\u001b[0m\u001b[0;34m.\u001b[0m\u001b[0msend\u001b[0m\u001b[0;34m(\u001b[0m\u001b[0mi\u001b[0m\u001b[0;34m)\u001b[0m\u001b[0;34m\u001b[0m\u001b[0;34m\u001b[0m\u001b[0m\n\u001b[0m\u001b[1;32m      3\u001b[0m     \u001b[0mi_squared\u001b[0m \u001b[0;34m=\u001b[0m \u001b[0mchannel\u001b[0m\u001b[0;34m.\u001b[0m\u001b[0mrecieve\u001b[0m\u001b[0;34m(\u001b[0m\u001b[0;34m)\u001b[0m\u001b[0;34m\u001b[0m\u001b[0;34m\u001b[0m\u001b[0m\n\u001b[1;32m      4\u001b[0m     \u001b[0mprint\u001b[0m\u001b[0;34m(\u001b[0m\u001b[0;34mf\"{i} squared is {i_squared}\"\u001b[0m\u001b[0;34m)\u001b[0m\u001b[0;34m\u001b[0m\u001b[0;34m\u001b[0m\u001b[0m\n",
      "\u001b[0;32m/opt/anaconda3/envs/my_env/lib/python3.7/site-packages/execnet/gateway_base.py\u001b[0m in \u001b[0;36msend\u001b[0;34m(self, item)\u001b[0m\n\u001b[1;32m    705\u001b[0m         \"\"\"\n\u001b[1;32m    706\u001b[0m         \u001b[0;32mif\u001b[0m \u001b[0mself\u001b[0m\u001b[0;34m.\u001b[0m\u001b[0misclosed\u001b[0m\u001b[0;34m(\u001b[0m\u001b[0;34m)\u001b[0m\u001b[0;34m:\u001b[0m\u001b[0;34m\u001b[0m\u001b[0;34m\u001b[0m\u001b[0m\n\u001b[0;32m--> 707\u001b[0;31m             \u001b[0;32mraise\u001b[0m \u001b[0mIOError\u001b[0m\u001b[0;34m(\u001b[0m\u001b[0;34m\"cannot send to {!r}\"\u001b[0m\u001b[0;34m.\u001b[0m\u001b[0mformat\u001b[0m\u001b[0;34m(\u001b[0m\u001b[0mself\u001b[0m\u001b[0;34m)\u001b[0m\u001b[0;34m)\u001b[0m\u001b[0;34m\u001b[0m\u001b[0;34m\u001b[0m\u001b[0m\n\u001b[0m\u001b[1;32m    708\u001b[0m         \u001b[0mself\u001b[0m\u001b[0;34m.\u001b[0m\u001b[0mgateway\u001b[0m\u001b[0;34m.\u001b[0m\u001b[0m_send\u001b[0m\u001b[0;34m(\u001b[0m\u001b[0mMessage\u001b[0m\u001b[0;34m.\u001b[0m\u001b[0mCHANNEL_DATA\u001b[0m\u001b[0;34m,\u001b[0m \u001b[0mself\u001b[0m\u001b[0;34m.\u001b[0m\u001b[0mid\u001b[0m\u001b[0;34m,\u001b[0m \u001b[0mdumps_internal\u001b[0m\u001b[0;34m(\u001b[0m\u001b[0mitem\u001b[0m\u001b[0;34m)\u001b[0m\u001b[0;34m)\u001b[0m\u001b[0;34m\u001b[0m\u001b[0;34m\u001b[0m\u001b[0m\n\u001b[1;32m    709\u001b[0m \u001b[0;34m\u001b[0m\u001b[0m\n",
      "\u001b[0;31mOSError\u001b[0m: cannot send to <Channel id=1 closed>"
     ]
    }
   ],
   "source": [
    "for i in range(10):\n",
    "    channel.send(i)\n",
    "    i_squared = channel.recieve()\n",
    "    print(f\"{i} squared is {i_squared}\")"
   ]
  },
  {
   "cell_type": "code",
   "execution_count": 5,
   "metadata": {},
   "outputs": [],
   "source": [
    "gateway.exit()"
   ]
  },
  {
   "cell_type": "code",
   "execution_count": 6,
   "metadata": {},
   "outputs": [
    {
     "name": "stdout",
     "output_type": "stream",
     "text": [
      "0 squared is 0\n",
      "1 squared is 1\n",
      "2 squared is 4\n",
      "3 squared is 9\n",
      "4 squared is 16\n",
      "5 squared is 25\n",
      "6 squared is 36\n",
      "7 squared is 49\n",
      "8 squared is 64\n",
      "9 squared is 81\n"
     ]
    }
   ],
   "source": [
    "import multiprocessing\n",
    "\n",
    "\n",
    "def square_mp(in_queue, out_queue):\n",
    "    while True:\n",
    "        n = in_queue.get()\n",
    "        n_squared = n**2\n",
    "        out_queue.put(n_squared)\n",
    "        \n",
    "\n",
    "if __name__ == '__main__':\n",
    "    in_queue = multiprocessing.Queue()\n",
    "    out_queue = multiprocessing.Queue()\n",
    "    process = multiprocessing.Process(target=square_mp, args=(in_queue, out_queue))\n",
    "    process.start()\n",
    "    for i in range(10):\n",
    "        in_queue.put(i)\n",
    "        i_squared = out_queue.get()\n",
    "        print(f\"{i} squared is {i_squared}\")\n",
    "    process.terminate()"
   ]
  },
  {
   "cell_type": "code",
   "execution_count": null,
   "metadata": {},
   "outputs": [],
   "source": []
  },
  {
   "cell_type": "code",
   "execution_count": 7,
   "metadata": {},
   "outputs": [],
   "source": [
    "import threading\n",
    "import queue\n",
    "\n",
    "in_queue = queue.Queue()\n",
    "out_queue = queue.Queue()\n",
    "\n",
    "def square_threading():\n",
    "    while True:\n",
    "        n = in_queue.get()\n",
    "        if n == 'STOP':\n",
    "            return\n",
    "        n_squared = n**2\n",
    "        out_queue.put(n_squared)"
   ]
  },
  {
   "cell_type": "code",
   "execution_count": 8,
   "metadata": {},
   "outputs": [],
   "source": [
    "thread = threading.Thread(target=square_threading)\n",
    "thread.start()"
   ]
  },
  {
   "cell_type": "code",
   "execution_count": 9,
   "metadata": {},
   "outputs": [
    {
     "name": "stdout",
     "output_type": "stream",
     "text": [
      "0 squared is 0\n",
      "1 squared is 1\n",
      "2 squared is 4\n",
      "3 squared is 9\n",
      "4 squared is 16\n",
      "5 squared is 25\n",
      "6 squared is 36\n",
      "7 squared is 49\n",
      "8 squared is 64\n",
      "9 squared is 81\n"
     ]
    }
   ],
   "source": [
    "for i in range(10):\n",
    "    in_queue.put(i)\n",
    "    i_squared = out_queue.get()\n",
    "    print(f\"{i} squared is {i_squared}\")\n",
    "in_queue.put('STOP')\n",
    "thread.join()"
   ]
  },
  {
   "cell_type": "code",
   "execution_count": null,
   "metadata": {},
   "outputs": [],
   "source": []
  },
  {
   "cell_type": "code",
   "execution_count": 10,
   "metadata": {},
   "outputs": [],
   "source": [
    "class Primes:\n",
    "    \n",
    "    def __init__(self):\n",
    "        self.current = 2\n",
    "        \n",
    "    def __iter__(self):\n",
    "        return self\n",
    "    \n",
    "    def __next__(self):\n",
    "        while True:\n",
    "            current = self.current\n",
    "            square_root = int(current ** 0.5)\n",
    "            is_prime = True\n",
    "            if square_root >= 2:\n",
    "                for i in range(2, square_root + 1):\n",
    "                    if current % i == 0:\n",
    "                        is_prime = False\n",
    "                        break\n",
    "            self.current += 1\n",
    "            if is_prime:\n",
    "                \n",
    "                return current"
   ]
  },
  {
   "cell_type": "code",
   "execution_count": 11,
   "metadata": {},
   "outputs": [
    {
     "name": "stdout",
     "output_type": "stream",
     "text": [
      "         2466 function calls in 0.013 seconds\n",
      "\n",
      "   Ordered by: standard name\n",
      "\n",
      "   ncalls  tottime  percall  cumtime  percall filename:lineno(function)\n",
      "        1    0.000    0.000    0.000    0.000 <ipython-input-10-66fcf727453d>:3(__init__)\n",
      "        1    0.000    0.000    0.000    0.000 <ipython-input-10-66fcf727453d>:6(__iter__)\n",
      "     1230    0.013    0.000    0.013    0.000 <ipython-input-10-66fcf727453d>:9(__next__)\n",
      "     1230    0.000    0.000    0.000    0.000 <string>:1(<lambda>)\n",
      "        1    0.000    0.000    0.013    0.013 <string>:1(<listcomp>)\n",
      "        1    0.000    0.000    0.013    0.013 <string>:1(<module>)\n",
      "        1    0.000    0.000    0.013    0.013 {built-in method builtins.exec}\n",
      "        1    0.000    0.000    0.000    0.000 {method 'disable' of '_lsprof.Profiler' objects}\n",
      "\n",
      "\n"
     ]
    }
   ],
   "source": [
    "import cProfile\n",
    "import itertools\n",
    "\n",
    "cProfile.run('[p for p in itertools.takewhile(lambda x: x<10000, Primes())]')"
   ]
  },
  {
   "cell_type": "code",
   "execution_count": 12,
   "metadata": {},
   "outputs": [],
   "source": [
    "class Primes2:\n",
    "    \n",
    "    def __init__(self):\n",
    "        self.known_primes=[]\n",
    "        self.current=2\n",
    "        \n",
    "    def __iter__(self):\n",
    "        return self\n",
    "    \n",
    "    def __next__(self):\n",
    "        while True:\n",
    "            current = self.current\n",
    "            prime_factors = [p for p in self.known_primes if current % p == 0]\n",
    "            self.current += 1\n",
    "            if len(prime_factors) == 0:\n",
    "                self.known_primes.append(current)\n",
    "                \n",
    "                return current"
   ]
  },
  {
   "cell_type": "code",
   "execution_count": 13,
   "metadata": {},
   "outputs": [
    {
     "name": "stdout",
     "output_type": "stream",
     "text": [
      "         23708 function calls in 0.357 seconds\n",
      "\n",
      "   Ordered by: standard name\n",
      "\n",
      "   ncalls  tottime  percall  cumtime  percall filename:lineno(function)\n",
      "     1230    0.007    0.000    0.356    0.000 <ipython-input-12-9b6f6d86b803>:10(__next__)\n",
      "    10006    0.349    0.000    0.349    0.000 <ipython-input-12-9b6f6d86b803>:13(<listcomp>)\n",
      "        1    0.000    0.000    0.000    0.000 <ipython-input-12-9b6f6d86b803>:3(__init__)\n",
      "        1    0.000    0.000    0.000    0.000 <ipython-input-12-9b6f6d86b803>:7(__iter__)\n",
      "     1230    0.000    0.000    0.000    0.000 <string>:1(<lambda>)\n",
      "        1    0.001    0.001    0.357    0.357 <string>:1(<listcomp>)\n",
      "        1    0.000    0.000    0.357    0.357 <string>:1(<module>)\n",
      "        1    0.000    0.000    0.357    0.357 {built-in method builtins.exec}\n",
      "    10006    0.001    0.000    0.001    0.000 {built-in method builtins.len}\n",
      "     1230    0.000    0.000    0.000    0.000 {method 'append' of 'list' objects}\n",
      "        1    0.000    0.000    0.000    0.000 {method 'disable' of '_lsprof.Profiler' objects}\n",
      "\n",
      "\n"
     ]
    }
   ],
   "source": [
    "cProfile.run('[p for p in itertools.takewhile(lambda x: x<10000, Primes2())]')"
   ]
  },
  {
   "cell_type": "code",
   "execution_count": 14,
   "metadata": {},
   "outputs": [],
   "source": [
    "class Primes3:\n",
    "    \n",
    "    def __init__(self):\n",
    "        self.known_primes=[]\n",
    "        self.current=2\n",
    "        \n",
    "    def __iter__(self):\n",
    "        return self\n",
    "    \n",
    "    def __next__(self):\n",
    "        while True:\n",
    "            current = self.current\n",
    "            sqrt_current = int(current**0.5)\n",
    "            potential_factors = itertools.takewhile(lambda x: x < sqrt_current, self.known_primes)\n",
    "            prime_factors = [p for p in potential_factors if current % p == 0]\n",
    "            self.current += 1\n",
    "            if len(prime_factors) == 0:\n",
    "                self.known_primes.append(current)\n",
    "                \n",
    "                return current"
   ]
  },
  {
   "cell_type": "code",
   "execution_count": 15,
   "metadata": {},
   "outputs": [
    {
     "name": "stdout",
     "output_type": "stream",
     "text": [
      "         291158 function calls in 0.087 seconds\n",
      "\n",
      "   Ordered by: standard name\n",
      "\n",
      "   ncalls  tottime  percall  cumtime  percall filename:lineno(function)\n",
      "     1265    0.013    0.000    0.086    0.000 <ipython-input-14-5007f6a1a2b2>:10(__next__)\n",
      "   267345    0.021    0.000    0.021    0.000 <ipython-input-14-5007f6a1a2b2>:14(<lambda>)\n",
      "    10006    0.052    0.000    0.073    0.000 <ipython-input-14-5007f6a1a2b2>:15(<listcomp>)\n",
      "        1    0.000    0.000    0.000    0.000 <ipython-input-14-5007f6a1a2b2>:3(__init__)\n",
      "        1    0.000    0.000    0.000    0.000 <ipython-input-14-5007f6a1a2b2>:7(__iter__)\n",
      "     1265    0.000    0.000    0.000    0.000 <string>:1(<lambda>)\n",
      "        1    0.001    0.001    0.087    0.087 <string>:1(<listcomp>)\n",
      "        1    0.000    0.000    0.087    0.087 <string>:1(<module>)\n",
      "        1    0.000    0.000    0.087    0.087 {built-in method builtins.exec}\n",
      "    10006    0.001    0.000    0.001    0.000 {built-in method builtins.len}\n",
      "     1265    0.000    0.000    0.000    0.000 {method 'append' of 'list' objects}\n",
      "        1    0.000    0.000    0.000    0.000 {method 'disable' of '_lsprof.Profiler' objects}\n",
      "\n",
      "\n"
     ]
    }
   ],
   "source": [
    "cProfile.run('[p for p in itertools.takewhile(lambda x: x<10000, Primes3())]')"
   ]
  },
  {
   "cell_type": "code",
   "execution_count": 16,
   "metadata": {},
   "outputs": [],
   "source": [
    "class Primes4:\n",
    "    \n",
    "    def __init__(self):\n",
    "        self.known_primes=[]\n",
    "        self.current=2\n",
    "        \n",
    "    def __iter__(self):\n",
    "        return self\n",
    "    \n",
    "    def __next__(self):\n",
    "        while True:\n",
    "            current = self.current\n",
    "            sqrt_current = int(current**0.5)\n",
    "            potential_factors = itertools.takewhile(lambda x: x < sqrt_current, self.known_primes)\n",
    "            is_prime = True\n",
    "            for p in potential_factors:\n",
    "                if current % p == 0:\n",
    "                    is_prime = False\n",
    "                    break\n",
    "            self.current += 1\n",
    "            if is_prime == True:\n",
    "                self.known_primes.append(current)\n",
    "                return current"
   ]
  },
  {
   "cell_type": "code",
   "execution_count": 17,
   "metadata": {},
   "outputs": [
    {
     "name": "stdout",
     "output_type": "stream",
     "text": [
      "         64802 function calls in 0.026 seconds\n",
      "\n",
      "   Ordered by: standard name\n",
      "\n",
      "   ncalls  tottime  percall  cumtime  percall filename:lineno(function)\n",
      "     1265    0.020    0.000    0.025    0.000 <ipython-input-16-879f4d8a4bb6>:10(__next__)\n",
      "    61001    0.005    0.000    0.005    0.000 <ipython-input-16-879f4d8a4bb6>:14(<lambda>)\n",
      "        1    0.000    0.000    0.000    0.000 <ipython-input-16-879f4d8a4bb6>:3(__init__)\n",
      "        1    0.000    0.000    0.000    0.000 <ipython-input-16-879f4d8a4bb6>:7(__iter__)\n",
      "     1265    0.000    0.000    0.000    0.000 <string>:1(<lambda>)\n",
      "        1    0.001    0.001    0.026    0.026 <string>:1(<listcomp>)\n",
      "        1    0.000    0.000    0.026    0.026 <string>:1(<module>)\n",
      "        1    0.000    0.000    0.026    0.026 {built-in method builtins.exec}\n",
      "     1265    0.000    0.000    0.000    0.000 {method 'append' of 'list' objects}\n",
      "        1    0.000    0.000    0.000    0.000 {method 'disable' of '_lsprof.Profiler' objects}\n",
      "\n",
      "\n"
     ]
    }
   ],
   "source": [
    "cProfile.run('[p for p in itertools.takewhile(lambda x: x<10000, Primes4())]')"
   ]
  },
  {
   "cell_type": "markdown",
   "metadata": {},
   "source": [
    "### Activity 23"
   ]
  },
  {
   "cell_type": "code",
   "execution_count": 18,
   "metadata": {},
   "outputs": [],
   "source": [
    "import threading\n",
    "import queue\n",
    "import cProfile\n",
    "import itertools\n",
    "import numpy as np"
   ]
  },
  {
   "cell_type": "code",
   "execution_count": 19,
   "metadata": {},
   "outputs": [],
   "source": [
    "np.random.seed(0)"
   ]
  },
  {
   "cell_type": "code",
   "execution_count": 20,
   "metadata": {},
   "outputs": [],
   "source": [
    "in_queue = queue.Queue()\n",
    "out_queue = queue.Queue()\n",
    "\n",
    "\n",
    "def random_number_threading():\n",
    "    while True:\n",
    "        n = in_queue.get()\n",
    "        if n == 'STOP':\n",
    "            return\n",
    "        random_numbers = np.random.rand(n)\n",
    "        out_queue.put(random_numbers)"
   ]
  },
  {
   "cell_type": "code",
   "execution_count": 21,
   "metadata": {},
   "outputs": [],
   "source": [
    "def generate_random_numbers(show_output, up_to):\n",
    "    thread = threading.Thread(target=random_number_threading)\n",
    "    thread.start()\n",
    "    \n",
    "    for i in range(up_to):\n",
    "        in_queue.put(i)\n",
    "        random_nums = out_queue.get()\n",
    "        \n",
    "        if show_output:\n",
    "            print(random_nums)\n",
    "            \n",
    "    in_queue.put('STOP')\n",
    "    thread.join()"
   ]
  },
  {
   "cell_type": "code",
   "execution_count": 22,
   "metadata": {},
   "outputs": [
    {
     "name": "stdout",
     "output_type": "stream",
     "text": [
      "[]\n",
      "[0.5488135]\n",
      "[0.71518937 0.60276338]\n",
      "[0.54488318 0.4236548  0.64589411]\n",
      "[0.43758721 0.891773   0.96366276 0.38344152]\n",
      "[0.79172504 0.52889492 0.56804456 0.92559664 0.07103606]\n",
      "[0.0871293  0.0202184  0.83261985 0.77815675 0.87001215 0.97861834]\n",
      "[0.79915856 0.46147936 0.78052918 0.11827443 0.63992102 0.14335329\n",
      " 0.94466892]\n",
      "[0.52184832 0.41466194 0.26455561 0.77423369 0.45615033 0.56843395\n",
      " 0.0187898  0.6176355 ]\n",
      "[0.61209572 0.616934   0.94374808 0.6818203  0.3595079  0.43703195\n",
      " 0.6976312  0.06022547 0.66676672]\n"
     ]
    }
   ],
   "source": [
    "generate_random_numbers(True, 10)"
   ]
  },
  {
   "cell_type": "code",
   "execution_count": 23,
   "metadata": {},
   "outputs": [
    {
     "name": "stdout",
     "output_type": "stream",
     "text": [
      "         74058 function calls in 0.106 seconds\n",
      "\n",
      "   Ordered by: standard name\n",
      "\n",
      "   ncalls  tottime  percall  cumtime  percall filename:lineno(function)\n",
      "        1    0.003    0.003    0.106    0.106 <ipython-input-21-b58bc638e4f8>:1(generate_random_numbers)\n",
      "        1    0.000    0.000    0.106    0.106 <string>:1(<module>)\n",
      "        1    0.000    0.000    0.000    0.000 _weakrefset.py:38(_remove)\n",
      "        1    0.000    0.000    0.000    0.000 _weakrefset.py:81(add)\n",
      "     2001    0.004    0.000    0.014    0.000 queue.py:121(put)\n",
      "     2000    0.007    0.000    0.089    0.000 queue.py:153(get)\n",
      "     4000    0.001    0.000    0.002    0.000 queue.py:208(_qsize)\n",
      "     2001    0.001    0.000    0.001    0.000 queue.py:212(_put)\n",
      "     2000    0.001    0.000    0.001    0.000 queue.py:216(_get)\n",
      "        1    0.000    0.000    0.000    0.000 threading.py:1012(join)\n",
      "        1    0.000    0.000    0.000    0.000 threading.py:1050(_wait_for_tstate_lock)\n",
      "        2    0.000    0.000    0.000    0.000 threading.py:1116(daemon)\n",
      "        2    0.000    0.000    0.000    0.000 threading.py:1225(current_thread)\n",
      "        1    0.000    0.000    0.000    0.000 threading.py:216(__init__)\n",
      "     4002    0.001    0.000    0.002    0.000 threading.py:240(__enter__)\n",
      "     4002    0.001    0.000    0.002    0.000 threading.py:243(__exit__)\n",
      "     2001    0.001    0.000    0.001    0.000 threading.py:249(_release_save)\n",
      "     2001    0.001    0.000    0.001    0.000 threading.py:252(_acquire_restore)\n",
      "     6002    0.002    0.000    0.003    0.000 threading.py:255(_is_owned)\n",
      "     2001    0.006    0.000    0.074    0.000 threading.py:264(wait)\n",
      "     4001    0.006    0.000    0.011    0.000 threading.py:335(notify)\n",
      "        1    0.000    0.000    0.000    0.000 threading.py:499(__init__)\n",
      "        2    0.000    0.000    0.000    0.000 threading.py:507(is_set)\n",
      "        1    0.000    0.000    0.000    0.000 threading.py:534(wait)\n",
      "        1    0.000    0.000    0.000    0.000 threading.py:728(_newname)\n",
      "        1    0.000    0.000    0.000    0.000 threading.py:763(__init__)\n",
      "        1    0.000    0.000    0.000    0.000 threading.py:834(start)\n",
      "        1    0.000    0.000    0.000    0.000 threading.py:977(_stop)\n",
      "     2002    0.001    0.000    0.001    0.000 {built-in method _thread.allocate_lock}\n",
      "        2    0.000    0.000    0.000    0.000 {built-in method _thread.get_ident}\n",
      "        1    0.000    0.000    0.000    0.000 {built-in method _thread.start_new_thread}\n",
      "        1    0.000    0.000    0.106    0.106 {built-in method builtins.exec}\n",
      "     4000    0.000    0.000    0.000    0.000 {built-in method builtins.len}\n",
      "     4002    0.001    0.000    0.001    0.000 {method '__enter__' of '_thread.lock' objects}\n",
      "     4002    0.000    0.000    0.000    0.000 {method '__exit__' of '_thread.lock' objects}\n",
      "    12006    0.066    0.000    0.066    0.000 {method 'acquire' of '_thread.lock' objects}\n",
      "        1    0.000    0.000    0.000    0.000 {method 'add' of 'set' objects}\n",
      "     4002    0.000    0.000    0.000    0.000 {method 'append' of 'collections.deque' objects}\n",
      "        1    0.000    0.000    0.000    0.000 {method 'disable' of '_lsprof.Profiler' objects}\n",
      "        2    0.000    0.000    0.000    0.000 {method 'discard' of 'set' objects}\n",
      "        1    0.000    0.000    0.000    0.000 {method 'locked' of '_thread.lock' objects}\n",
      "     2000    0.000    0.000    0.000    0.000 {method 'popleft' of 'collections.deque' objects}\n",
      "     4003    0.003    0.000    0.003    0.000 {method 'release' of '_thread.lock' objects}\n",
      "     2001    0.000    0.000    0.000    0.000 {method 'remove' of 'collections.deque' objects}\n",
      "\n",
      "\n"
     ]
    }
   ],
   "source": [
    "cProfile.run('generate_random_numbers(False, 2000)')"
   ]
  },
  {
   "cell_type": "code",
   "execution_count": null,
   "metadata": {},
   "outputs": [],
   "source": []
  }
 ],
 "metadata": {
  "kernelspec": {
   "display_name": "Python 3",
   "language": "python",
   "name": "python3"
  },
  "language_info": {
   "codemirror_mode": {
    "name": "ipython",
    "version": 3
   },
   "file_extension": ".py",
   "mimetype": "text/x-python",
   "name": "python",
   "nbconvert_exporter": "python",
   "pygments_lexer": "ipython3",
   "version": "3.7.5"
  }
 },
 "nbformat": 4,
 "nbformat_minor": 4
}
